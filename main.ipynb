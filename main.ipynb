{
 "cells": [
  {
   "cell_type": "code",
   "execution_count": 119,
   "metadata": {},
   "outputs": [],
   "source": [
    "import numpy as np\n",
    "import pandas as pd\n",
    "import pingouin as pg\n",
    "import plotly_express as px\n",
    "import matplotlib.pyplot as plt\n",
    "from sklearn.cluster import KMeans\n",
    "from scipy.spatial.distance import cdist\n",
    "from sklearn.preprocessing import MinMaxScaler \n",
    "\n",
    "\n",
    "df = pd.read_csv(\"football.csv\")\n",
    "df_understat = pd.read_csv(\"understat.com.csv\")\n"
   ]
  },
  {
   "attachments": {},
   "cell_type": "markdown",
   "metadata": {},
   "source": [
    "# Overview"
   ]
  },
  {
   "cell_type": "code",
   "execution_count": 120,
   "metadata": {},
   "outputs": [
    {
     "data": {
      "text/html": [
       "<div>\n",
       "<style scoped>\n",
       "    .dataframe tbody tr th:only-of-type {\n",
       "        vertical-align: middle;\n",
       "    }\n",
       "\n",
       "    .dataframe tbody tr th {\n",
       "        vertical-align: top;\n",
       "    }\n",
       "\n",
       "    .dataframe thead th {\n",
       "        text-align: right;\n",
       "    }\n",
       "</style>\n",
       "<table border=\"1\" class=\"dataframe\">\n",
       "  <thead>\n",
       "    <tr style=\"text-align: right;\">\n",
       "      <th></th>\n",
       "      <th>Key</th>\n",
       "      <th>Team</th>\n",
       "      <th>League</th>\n",
       "      <th>Season</th>\n",
       "      <th>Rank</th>\n",
       "      <th>Games</th>\n",
       "      <th>Wins</th>\n",
       "      <th>Draws</th>\n",
       "      <th>Losses</th>\n",
       "      <th>Points</th>\n",
       "      <th>...</th>\n",
       "      <th>Nutmegs</th>\n",
       "      <th>Controlled</th>\n",
       "      <th>DistMovedWithBall</th>\n",
       "      <th>ProgressiveDistMoved</th>\n",
       "      <th>ProgC</th>\n",
       "      <th>ProgressiveIntoFinalThird</th>\n",
       "      <th>ProgressiveInto18Yard</th>\n",
       "      <th>Miscontrols</th>\n",
       "      <th>MiscontrolsAfterTackle</th>\n",
       "      <th>ProgressivePassReceived</th>\n",
       "    </tr>\n",
       "  </thead>\n",
       "  <tbody>\n",
       "    <tr>\n",
       "      <th>0</th>\n",
       "      <td>Chelsea DL 2009/2010</td>\n",
       "      <td>Chelsea</td>\n",
       "      <td>Premier League</td>\n",
       "      <td>2009/2010</td>\n",
       "      <td>1.0</td>\n",
       "      <td>38.0</td>\n",
       "      <td>27.0</td>\n",
       "      <td>5.0</td>\n",
       "      <td>6.0</td>\n",
       "      <td>86.0</td>\n",
       "      <td>...</td>\n",
       "      <td>NaN</td>\n",
       "      <td>NaN</td>\n",
       "      <td>NaN</td>\n",
       "      <td>NaN</td>\n",
       "      <td>NaN</td>\n",
       "      <td>NaN</td>\n",
       "      <td>NaN</td>\n",
       "      <td>NaN</td>\n",
       "      <td>NaN</td>\n",
       "      <td>NaN</td>\n",
       "    </tr>\n",
       "    <tr>\n",
       "      <th>1</th>\n",
       "      <td>Manchester United DL 2009/2010</td>\n",
       "      <td>Manchester United</td>\n",
       "      <td>Premier League</td>\n",
       "      <td>2009/2010</td>\n",
       "      <td>2.0</td>\n",
       "      <td>38.0</td>\n",
       "      <td>27.0</td>\n",
       "      <td>4.0</td>\n",
       "      <td>7.0</td>\n",
       "      <td>85.0</td>\n",
       "      <td>...</td>\n",
       "      <td>NaN</td>\n",
       "      <td>NaN</td>\n",
       "      <td>NaN</td>\n",
       "      <td>NaN</td>\n",
       "      <td>NaN</td>\n",
       "      <td>NaN</td>\n",
       "      <td>NaN</td>\n",
       "      <td>NaN</td>\n",
       "      <td>NaN</td>\n",
       "      <td>NaN</td>\n",
       "    </tr>\n",
       "    <tr>\n",
       "      <th>2</th>\n",
       "      <td>Tottenham DL 2009/2010</td>\n",
       "      <td>Tottenham</td>\n",
       "      <td>Premier League</td>\n",
       "      <td>2009/2010</td>\n",
       "      <td>4.0</td>\n",
       "      <td>38.0</td>\n",
       "      <td>21.0</td>\n",
       "      <td>7.0</td>\n",
       "      <td>10.0</td>\n",
       "      <td>70.0</td>\n",
       "      <td>...</td>\n",
       "      <td>NaN</td>\n",
       "      <td>NaN</td>\n",
       "      <td>NaN</td>\n",
       "      <td>NaN</td>\n",
       "      <td>NaN</td>\n",
       "      <td>NaN</td>\n",
       "      <td>NaN</td>\n",
       "      <td>NaN</td>\n",
       "      <td>NaN</td>\n",
       "      <td>NaN</td>\n",
       "    </tr>\n",
       "    <tr>\n",
       "      <th>3</th>\n",
       "      <td>Arsenal DL 2009/2010</td>\n",
       "      <td>Arsenal</td>\n",
       "      <td>Premier League</td>\n",
       "      <td>2009/2010</td>\n",
       "      <td>3.0</td>\n",
       "      <td>38.0</td>\n",
       "      <td>23.0</td>\n",
       "      <td>6.0</td>\n",
       "      <td>9.0</td>\n",
       "      <td>75.0</td>\n",
       "      <td>...</td>\n",
       "      <td>NaN</td>\n",
       "      <td>NaN</td>\n",
       "      <td>NaN</td>\n",
       "      <td>NaN</td>\n",
       "      <td>NaN</td>\n",
       "      <td>NaN</td>\n",
       "      <td>NaN</td>\n",
       "      <td>NaN</td>\n",
       "      <td>NaN</td>\n",
       "      <td>NaN</td>\n",
       "    </tr>\n",
       "    <tr>\n",
       "      <th>4</th>\n",
       "      <td>Aston Villa DL 2009/2010</td>\n",
       "      <td>Aston Villa</td>\n",
       "      <td>Premier League</td>\n",
       "      <td>2009/2010</td>\n",
       "      <td>6.0</td>\n",
       "      <td>38.0</td>\n",
       "      <td>17.0</td>\n",
       "      <td>13.0</td>\n",
       "      <td>8.0</td>\n",
       "      <td>64.0</td>\n",
       "      <td>...</td>\n",
       "      <td>NaN</td>\n",
       "      <td>NaN</td>\n",
       "      <td>NaN</td>\n",
       "      <td>NaN</td>\n",
       "      <td>NaN</td>\n",
       "      <td>NaN</td>\n",
       "      <td>NaN</td>\n",
       "      <td>NaN</td>\n",
       "      <td>NaN</td>\n",
       "      <td>NaN</td>\n",
       "    </tr>\n",
       "  </tbody>\n",
       "</table>\n",
       "<p>5 rows × 93 columns</p>\n",
       "</div>"
      ],
      "text/plain": [
       "                              Key               Team          League  \\\n",
       "0            Chelsea DL 2009/2010            Chelsea  Premier League   \n",
       "1  Manchester United DL 2009/2010  Manchester United  Premier League   \n",
       "2          Tottenham DL 2009/2010          Tottenham  Premier League   \n",
       "3            Arsenal DL 2009/2010            Arsenal  Premier League   \n",
       "4        Aston Villa DL 2009/2010        Aston Villa  Premier League   \n",
       "\n",
       "      Season  Rank  Games  Wins  Draws  Losses  Points  ...  Nutmegs  \\\n",
       "0  2009/2010   1.0   38.0  27.0    5.0     6.0    86.0  ...      NaN   \n",
       "1  2009/2010   2.0   38.0  27.0    4.0     7.0    85.0  ...      NaN   \n",
       "2  2009/2010   4.0   38.0  21.0    7.0    10.0    70.0  ...      NaN   \n",
       "3  2009/2010   3.0   38.0  23.0    6.0     9.0    75.0  ...      NaN   \n",
       "4  2009/2010   6.0   38.0  17.0   13.0     8.0    64.0  ...      NaN   \n",
       "\n",
       "   Controlled  DistMovedWithBall  ProgressiveDistMoved  ProgC  \\\n",
       "0         NaN                NaN                   NaN    NaN   \n",
       "1         NaN                NaN                   NaN    NaN   \n",
       "2         NaN                NaN                   NaN    NaN   \n",
       "3         NaN                NaN                   NaN    NaN   \n",
       "4         NaN                NaN                   NaN    NaN   \n",
       "\n",
       "   ProgressiveIntoFinalThird  ProgressiveInto18Yard  Miscontrols  \\\n",
       "0                        NaN                    NaN          NaN   \n",
       "1                        NaN                    NaN          NaN   \n",
       "2                        NaN                    NaN          NaN   \n",
       "3                        NaN                    NaN          NaN   \n",
       "4                        NaN                    NaN          NaN   \n",
       "\n",
       "   MiscontrolsAfterTackle  ProgressivePassReceived  \n",
       "0                     NaN                      NaN  \n",
       "1                     NaN                      NaN  \n",
       "2                     NaN                      NaN  \n",
       "3                     NaN                      NaN  \n",
       "4                     NaN                      NaN  \n",
       "\n",
       "[5 rows x 93 columns]"
      ]
     },
     "execution_count": 120,
     "metadata": {},
     "output_type": "execute_result"
    }
   ],
   "source": [
    "df.head()"
   ]
  },
  {
   "cell_type": "code",
   "execution_count": 121,
   "metadata": {},
   "outputs": [
    {
     "data": {
      "text/html": [
       "<div>\n",
       "<style scoped>\n",
       "    .dataframe tbody tr th:only-of-type {\n",
       "        vertical-align: middle;\n",
       "    }\n",
       "\n",
       "    .dataframe tbody tr th {\n",
       "        vertical-align: top;\n",
       "    }\n",
       "\n",
       "    .dataframe thead th {\n",
       "        text-align: right;\n",
       "    }\n",
       "</style>\n",
       "<table border=\"1\" class=\"dataframe\">\n",
       "  <thead>\n",
       "    <tr style=\"text-align: right;\">\n",
       "      <th></th>\n",
       "      <th>Unnamed: 0</th>\n",
       "      <th>Unnamed: 1</th>\n",
       "      <th>position</th>\n",
       "      <th>team</th>\n",
       "      <th>matches</th>\n",
       "      <th>wins</th>\n",
       "      <th>draws</th>\n",
       "      <th>loses</th>\n",
       "      <th>scored</th>\n",
       "      <th>missed</th>\n",
       "      <th>...</th>\n",
       "      <th>xGA</th>\n",
       "      <th>xGA_diff</th>\n",
       "      <th>npxGA</th>\n",
       "      <th>npxGD</th>\n",
       "      <th>ppda_coef</th>\n",
       "      <th>oppda_coef</th>\n",
       "      <th>deep</th>\n",
       "      <th>deep_allowed</th>\n",
       "      <th>xpts</th>\n",
       "      <th>xpts_diff</th>\n",
       "    </tr>\n",
       "  </thead>\n",
       "  <tbody>\n",
       "    <tr>\n",
       "      <th>0</th>\n",
       "      <td>La_liga</td>\n",
       "      <td>2014</td>\n",
       "      <td>1</td>\n",
       "      <td>Barcelona</td>\n",
       "      <td>38</td>\n",
       "      <td>30</td>\n",
       "      <td>4</td>\n",
       "      <td>4</td>\n",
       "      <td>110</td>\n",
       "      <td>21</td>\n",
       "      <td>...</td>\n",
       "      <td>28.444293</td>\n",
       "      <td>7.444293</td>\n",
       "      <td>24.727907</td>\n",
       "      <td>73.049305</td>\n",
       "      <td>5.683535</td>\n",
       "      <td>16.367593</td>\n",
       "      <td>489</td>\n",
       "      <td>114</td>\n",
       "      <td>94.0813</td>\n",
       "      <td>0.0813</td>\n",
       "    </tr>\n",
       "    <tr>\n",
       "      <th>1</th>\n",
       "      <td>La_liga</td>\n",
       "      <td>2014</td>\n",
       "      <td>2</td>\n",
       "      <td>Real Madrid</td>\n",
       "      <td>38</td>\n",
       "      <td>30</td>\n",
       "      <td>2</td>\n",
       "      <td>6</td>\n",
       "      <td>118</td>\n",
       "      <td>38</td>\n",
       "      <td>...</td>\n",
       "      <td>42.607198</td>\n",
       "      <td>4.607198</td>\n",
       "      <td>38.890805</td>\n",
       "      <td>47.213090</td>\n",
       "      <td>10.209085</td>\n",
       "      <td>12.929510</td>\n",
       "      <td>351</td>\n",
       "      <td>153</td>\n",
       "      <td>81.7489</td>\n",
       "      <td>-10.2511</td>\n",
       "    </tr>\n",
       "    <tr>\n",
       "      <th>2</th>\n",
       "      <td>La_liga</td>\n",
       "      <td>2014</td>\n",
       "      <td>3</td>\n",
       "      <td>Atletico Madrid</td>\n",
       "      <td>38</td>\n",
       "      <td>23</td>\n",
       "      <td>9</td>\n",
       "      <td>6</td>\n",
       "      <td>67</td>\n",
       "      <td>29</td>\n",
       "      <td>...</td>\n",
       "      <td>29.069107</td>\n",
       "      <td>0.069107</td>\n",
       "      <td>26.839271</td>\n",
       "      <td>25.748737</td>\n",
       "      <td>8.982028</td>\n",
       "      <td>9.237091</td>\n",
       "      <td>197</td>\n",
       "      <td>123</td>\n",
       "      <td>73.1353</td>\n",
       "      <td>-4.8647</td>\n",
       "    </tr>\n",
       "    <tr>\n",
       "      <th>3</th>\n",
       "      <td>La_liga</td>\n",
       "      <td>2014</td>\n",
       "      <td>4</td>\n",
       "      <td>Valencia</td>\n",
       "      <td>38</td>\n",
       "      <td>22</td>\n",
       "      <td>11</td>\n",
       "      <td>5</td>\n",
       "      <td>70</td>\n",
       "      <td>32</td>\n",
       "      <td>...</td>\n",
       "      <td>39.392572</td>\n",
       "      <td>7.392572</td>\n",
       "      <td>33.446477</td>\n",
       "      <td>16.257501</td>\n",
       "      <td>8.709827</td>\n",
       "      <td>7.870225</td>\n",
       "      <td>203</td>\n",
       "      <td>172</td>\n",
       "      <td>63.7068</td>\n",
       "      <td>-13.2932</td>\n",
       "    </tr>\n",
       "    <tr>\n",
       "      <th>4</th>\n",
       "      <td>La_liga</td>\n",
       "      <td>2014</td>\n",
       "      <td>5</td>\n",
       "      <td>Sevilla</td>\n",
       "      <td>38</td>\n",
       "      <td>23</td>\n",
       "      <td>7</td>\n",
       "      <td>8</td>\n",
       "      <td>71</td>\n",
       "      <td>45</td>\n",
       "      <td>...</td>\n",
       "      <td>47.862742</td>\n",
       "      <td>2.862742</td>\n",
       "      <td>41.916529</td>\n",
       "      <td>20.178070</td>\n",
       "      <td>8.276148</td>\n",
       "      <td>9.477805</td>\n",
       "      <td>305</td>\n",
       "      <td>168</td>\n",
       "      <td>67.3867</td>\n",
       "      <td>-8.6133</td>\n",
       "    </tr>\n",
       "  </tbody>\n",
       "</table>\n",
       "<p>5 rows × 24 columns</p>\n",
       "</div>"
      ],
      "text/plain": [
       "  Unnamed: 0  Unnamed: 1  position             team  matches  wins  draws  \\\n",
       "0    La_liga        2014         1        Barcelona       38    30      4   \n",
       "1    La_liga        2014         2      Real Madrid       38    30      2   \n",
       "2    La_liga        2014         3  Atletico Madrid       38    23      9   \n",
       "3    La_liga        2014         4         Valencia       38    22     11   \n",
       "4    La_liga        2014         5          Sevilla       38    23      7   \n",
       "\n",
       "   loses  scored  missed  ...        xGA  xGA_diff      npxGA      npxGD  \\\n",
       "0      4     110      21  ...  28.444293  7.444293  24.727907  73.049305   \n",
       "1      6     118      38  ...  42.607198  4.607198  38.890805  47.213090   \n",
       "2      6      67      29  ...  29.069107  0.069107  26.839271  25.748737   \n",
       "3      5      70      32  ...  39.392572  7.392572  33.446477  16.257501   \n",
       "4      8      71      45  ...  47.862742  2.862742  41.916529  20.178070   \n",
       "\n",
       "   ppda_coef  oppda_coef  deep  deep_allowed     xpts  xpts_diff  \n",
       "0   5.683535   16.367593   489           114  94.0813     0.0813  \n",
       "1  10.209085   12.929510   351           153  81.7489   -10.2511  \n",
       "2   8.982028    9.237091   197           123  73.1353    -4.8647  \n",
       "3   8.709827    7.870225   203           172  63.7068   -13.2932  \n",
       "4   8.276148    9.477805   305           168  67.3867    -8.6133  \n",
       "\n",
       "[5 rows x 24 columns]"
      ]
     },
     "execution_count": 121,
     "metadata": {},
     "output_type": "execute_result"
    }
   ],
   "source": [
    "df_understat.head()"
   ]
  },
  {
   "attachments": {},
   "cell_type": "markdown",
   "metadata": {},
   "source": [
    "# Preprocessing"
   ]
  },
  {
   "cell_type": "code",
   "execution_count": 122,
   "metadata": {},
   "outputs": [],
   "source": [
    "df[\"Start Season\"] = df[\"Season\"].apply(lambda x : int(x[:4]))\n",
    "df[\"End Season\"] = df[\"Season\"].apply(lambda x : int(x[5:]))\n",
    "df[\"League\"].replace('La Liga', 'La_liga',inplace = True)\n",
    "df[\"League\"].replace('Premier League', 'EPL',inplace = True)\n",
    "\n",
    "year = 2019\n",
    "\n",
    "df_understat.rename(columns = {\n",
    "    \"Unnamed: 0\" : \"league\",\n",
    "    \"Unnamed: 1\" : \"season\",\n",
    "    \"position\" : \"rank\"\n",
    "    }, inplace = True)\n",
    "pl_u = df_understat[(df_understat[\"league\"] == \"EPL\") & (df_understat[\"season\"] == year)][[\"rank\",\"team\", \"npxGD\"]].sort_values([\"rank\"]).reset_index(drop = True)\n",
    "ll_u = df_understat[(df_understat[\"league\"] == \"La_liga\") & (df_understat[\"season\"] == year)][[\"rank\",\"team\", \"npxGD\"]].sort_values([\"rank\"]).reset_index(drop = True)\n",
    "\n",
    "# SPPLBP - ShortPassesPerGameDividedbyLongBallsPerGame\n",
    "# SPPLBP more - means your teams more prefer to play on the pitch instead of the sky :D\n",
    "\n",
    "\n",
    "pl = df[(df[\"Start Season\"] == year) & ((df[\"League\"] == 'EPL') )][['Rank','League','Team','Possession','ShortPassesPerGame', 'LongBallsPerGame']].sort_values([\"Rank\"]).reset_index(drop = True)\n",
    "pl[\"SPPLBP\"] = pl[\"ShortPassesPerGame\"] /pl[\"LongBallsPerGame\"]\n",
    "pl.drop([\"LongBallsPerGame\", \"ShortPassesPerGame\"], axis = 1, inplace = True)\n",
    "pl[\"Rank\"] = pl[\"Rank\"].astype(int)\n",
    "pl[\"npxGD\"] = pl_u[\"npxGD\"]\n",
    "\n",
    "\n",
    "ll = df[(df[\"Start Season\"] == year) & ((df[\"League\"] == 'La_liga') )][['Rank','League','Team','Possession','ShortPassesPerGame', 'LongBallsPerGame']].sort_values([\"Rank\"]).reset_index(drop = True)\n",
    "ll[\"SPPLBP\"] = ll[\"ShortPassesPerGame\"] /ll[\"LongBallsPerGame\"]\n",
    "ll.drop([\"LongBallsPerGame\", \"ShortPassesPerGame\"], axis = 1, inplace = True)\n",
    "ll[\"Rank\"] = ll[\"Rank\"].astype(int)\n",
    "ll[\"npxGD\"] = ll_u[\"npxGD\"]\n",
    "\n",
    "\n",
    "df_prepared = pd.concat([pl,ll]).reset_index(drop = True)"
   ]
  },
  {
   "cell_type": "code",
   "execution_count": 123,
   "metadata": {},
   "outputs": [
    {
     "data": {
      "text/html": [
       "<div>\n",
       "<style scoped>\n",
       "    .dataframe tbody tr th:only-of-type {\n",
       "        vertical-align: middle;\n",
       "    }\n",
       "\n",
       "    .dataframe tbody tr th {\n",
       "        vertical-align: top;\n",
       "    }\n",
       "\n",
       "    .dataframe thead th {\n",
       "        text-align: right;\n",
       "    }\n",
       "</style>\n",
       "<table border=\"1\" class=\"dataframe\">\n",
       "  <thead>\n",
       "    <tr style=\"text-align: right;\">\n",
       "      <th></th>\n",
       "      <th>Rank</th>\n",
       "      <th>League</th>\n",
       "      <th>Team</th>\n",
       "      <th>Possession</th>\n",
       "      <th>SPPLBP</th>\n",
       "      <th>npxGD</th>\n",
       "    </tr>\n",
       "  </thead>\n",
       "  <tbody>\n",
       "    <tr>\n",
       "      <th>0</th>\n",
       "      <td>1</td>\n",
       "      <td>EPL</td>\n",
       "      <td>Liverpool</td>\n",
       "      <td>59.6</td>\n",
       "      <td>8.590909</td>\n",
       "      <td>32.575792</td>\n",
       "    </tr>\n",
       "    <tr>\n",
       "      <th>1</th>\n",
       "      <td>2</td>\n",
       "      <td>EPL</td>\n",
       "      <td>Manchester City</td>\n",
       "      <td>62.6</td>\n",
       "      <td>12.169811</td>\n",
       "      <td>58.818903</td>\n",
       "    </tr>\n",
       "    <tr>\n",
       "      <th>2</th>\n",
       "      <td>3</td>\n",
       "      <td>EPL</td>\n",
       "      <td>Manchester United</td>\n",
       "      <td>54.6</td>\n",
       "      <td>9.836735</td>\n",
       "      <td>19.754725</td>\n",
       "    </tr>\n",
       "    <tr>\n",
       "      <th>3</th>\n",
       "      <td>4</td>\n",
       "      <td>EPL</td>\n",
       "      <td>Chelsea</td>\n",
       "      <td>57.9</td>\n",
       "      <td>9.807018</td>\n",
       "      <td>31.333631</td>\n",
       "    </tr>\n",
       "    <tr>\n",
       "      <th>4</th>\n",
       "      <td>5</td>\n",
       "      <td>EPL</td>\n",
       "      <td>Leicester</td>\n",
       "      <td>55.1</td>\n",
       "      <td>8.600000</td>\n",
       "      <td>15.391501</td>\n",
       "    </tr>\n",
       "  </tbody>\n",
       "</table>\n",
       "</div>"
      ],
      "text/plain": [
       "   Rank League               Team  Possession     SPPLBP      npxGD\n",
       "0     1    EPL          Liverpool        59.6   8.590909  32.575792\n",
       "1     2    EPL    Manchester City        62.6  12.169811  58.818903\n",
       "2     3    EPL  Manchester United        54.6   9.836735  19.754725\n",
       "3     4    EPL            Chelsea        57.9   9.807018  31.333631\n",
       "4     5    EPL          Leicester        55.1   8.600000  15.391501"
      ]
     },
     "execution_count": 123,
     "metadata": {},
     "output_type": "execute_result"
    }
   ],
   "source": [
    "df_prepared.head()"
   ]
  },
  {
   "cell_type": "code",
   "execution_count": 124,
   "metadata": {},
   "outputs": [
    {
     "data": {
      "text/html": [
       "<div>\n",
       "<style scoped>\n",
       "    .dataframe tbody tr th:only-of-type {\n",
       "        vertical-align: middle;\n",
       "    }\n",
       "\n",
       "    .dataframe tbody tr th {\n",
       "        vertical-align: top;\n",
       "    }\n",
       "\n",
       "    .dataframe thead th {\n",
       "        text-align: right;\n",
       "    }\n",
       "</style>\n",
       "<table border=\"1\" class=\"dataframe\">\n",
       "  <thead>\n",
       "    <tr style=\"text-align: right;\">\n",
       "      <th></th>\n",
       "      <th>Rank</th>\n",
       "      <th>League</th>\n",
       "      <th>Team</th>\n",
       "      <th>Possession</th>\n",
       "      <th>SPPLBP</th>\n",
       "      <th>npxGD</th>\n",
       "    </tr>\n",
       "  </thead>\n",
       "  <tbody>\n",
       "    <tr>\n",
       "      <th>35</th>\n",
       "      <td>16</td>\n",
       "      <td>La_liga</td>\n",
       "      <td>Deportivo Alaves</td>\n",
       "      <td>43.2</td>\n",
       "      <td>3.984848</td>\n",
       "      <td>-13.093103</td>\n",
       "    </tr>\n",
       "    <tr>\n",
       "      <th>36</th>\n",
       "      <td>17</td>\n",
       "      <td>La_liga</td>\n",
       "      <td>Celta Vigo</td>\n",
       "      <td>51.3</td>\n",
       "      <td>7.200000</td>\n",
       "      <td>-7.361762</td>\n",
       "    </tr>\n",
       "    <tr>\n",
       "      <th>37</th>\n",
       "      <td>18</td>\n",
       "      <td>La_liga</td>\n",
       "      <td>Leganes</td>\n",
       "      <td>45.0</td>\n",
       "      <td>4.164179</td>\n",
       "      <td>-5.268822</td>\n",
       "    </tr>\n",
       "    <tr>\n",
       "      <th>38</th>\n",
       "      <td>19</td>\n",
       "      <td>La_liga</td>\n",
       "      <td>Mallorca</td>\n",
       "      <td>46.3</td>\n",
       "      <td>5.888889</td>\n",
       "      <td>-20.254996</td>\n",
       "    </tr>\n",
       "    <tr>\n",
       "      <th>39</th>\n",
       "      <td>20</td>\n",
       "      <td>La_liga</td>\n",
       "      <td>Espanyol</td>\n",
       "      <td>47.5</td>\n",
       "      <td>4.571429</td>\n",
       "      <td>-13.886380</td>\n",
       "    </tr>\n",
       "  </tbody>\n",
       "</table>\n",
       "</div>"
      ],
      "text/plain": [
       "    Rank   League              Team  Possession    SPPLBP      npxGD\n",
       "35    16  La_liga  Deportivo Alaves        43.2  3.984848 -13.093103\n",
       "36    17  La_liga        Celta Vigo        51.3  7.200000  -7.361762\n",
       "37    18  La_liga           Leganes        45.0  4.164179  -5.268822\n",
       "38    19  La_liga          Mallorca        46.3  5.888889 -20.254996\n",
       "39    20  La_liga          Espanyol        47.5  4.571429 -13.886380"
      ]
     },
     "execution_count": 124,
     "metadata": {},
     "output_type": "execute_result"
    }
   ],
   "source": [
    "df_prepared.tail()"
   ]
  },
  {
   "cell_type": "code",
   "execution_count": 125,
   "metadata": {},
   "outputs": [],
   "source": [
    "scaler = MinMaxScaler()\n",
    "df_prepared[[\"Possession\",\"SPPLBP\",\"npxGD\"]] = scaler.fit_transform(df_prepared[[\"Possession\",\"SPPLBP\",\"npxGD\"]])"
   ]
  },
  {
   "cell_type": "code",
   "execution_count": 126,
   "metadata": {},
   "outputs": [
    {
     "data": {
      "text/html": [
       "<div>\n",
       "<style scoped>\n",
       "    .dataframe tbody tr th:only-of-type {\n",
       "        vertical-align: middle;\n",
       "    }\n",
       "\n",
       "    .dataframe tbody tr th {\n",
       "        vertical-align: top;\n",
       "    }\n",
       "\n",
       "    .dataframe thead th {\n",
       "        text-align: right;\n",
       "    }\n",
       "</style>\n",
       "<table border=\"1\" class=\"dataframe\">\n",
       "  <thead>\n",
       "    <tr style=\"text-align: right;\">\n",
       "      <th></th>\n",
       "      <th>Rank</th>\n",
       "      <th>League</th>\n",
       "      <th>Team</th>\n",
       "      <th>Possession</th>\n",
       "      <th>SPPLBP</th>\n",
       "      <th>npxGD</th>\n",
       "    </tr>\n",
       "  </thead>\n",
       "  <tbody>\n",
       "    <tr>\n",
       "      <th>0</th>\n",
       "      <td>1</td>\n",
       "      <td>EPL</td>\n",
       "      <td>Liverpool</td>\n",
       "      <td>0.924686</td>\n",
       "      <td>0.510146</td>\n",
       "      <td>0.705905</td>\n",
       "    </tr>\n",
       "    <tr>\n",
       "      <th>1</th>\n",
       "      <td>2</td>\n",
       "      <td>EPL</td>\n",
       "      <td>Manchester City</td>\n",
       "      <td>0.987448</td>\n",
       "      <td>0.824368</td>\n",
       "      <td>1.000000</td>\n",
       "    </tr>\n",
       "    <tr>\n",
       "      <th>2</th>\n",
       "      <td>3</td>\n",
       "      <td>EPL</td>\n",
       "      <td>Manchester United</td>\n",
       "      <td>0.820084</td>\n",
       "      <td>0.619527</td>\n",
       "      <td>0.562225</td>\n",
       "    </tr>\n",
       "    <tr>\n",
       "      <th>3</th>\n",
       "      <td>4</td>\n",
       "      <td>EPL</td>\n",
       "      <td>Chelsea</td>\n",
       "      <td>0.889121</td>\n",
       "      <td>0.616918</td>\n",
       "      <td>0.691985</td>\n",
       "    </tr>\n",
       "    <tr>\n",
       "      <th>4</th>\n",
       "      <td>5</td>\n",
       "      <td>EPL</td>\n",
       "      <td>Leicester</td>\n",
       "      <td>0.830544</td>\n",
       "      <td>0.510944</td>\n",
       "      <td>0.513329</td>\n",
       "    </tr>\n",
       "  </tbody>\n",
       "</table>\n",
       "</div>"
      ],
      "text/plain": [
       "   Rank League               Team  Possession    SPPLBP     npxGD\n",
       "0     1    EPL          Liverpool    0.924686  0.510146  0.705905\n",
       "1     2    EPL    Manchester City    0.987448  0.824368  1.000000\n",
       "2     3    EPL  Manchester United    0.820084  0.619527  0.562225\n",
       "3     4    EPL            Chelsea    0.889121  0.616918  0.691985\n",
       "4     5    EPL          Leicester    0.830544  0.510944  0.513329"
      ]
     },
     "execution_count": 126,
     "metadata": {},
     "output_type": "execute_result"
    }
   ],
   "source": [
    "df_prepared.head()"
   ]
  },
  {
   "cell_type": "code",
   "execution_count": 127,
   "metadata": {},
   "outputs": [
    {
     "data": {
      "application/vnd.plotly.v1+json": {
       "config": {
        "plotlyServerURL": "https://plot.ly"
       },
       "data": [
        {
         "hovertemplate": "<b>%{hovertext}</b><br><br>Possession=%{x}<br>SPPLBP=%{y}<br>npxGD=%{z}<extra></extra>",
         "hovertext": [
          "Liverpool",
          "Manchester City",
          "Manchester United",
          "Chelsea",
          "Leicester",
          "Tottenham",
          "Wolverhampton",
          "Arsenal",
          "Sheffield United",
          "Burnley",
          "Southampton",
          "Everton",
          "Newcastle",
          "Crystal Palace",
          "Brighton",
          "West Ham",
          "Aston Villa",
          "Bournemouth",
          "Watford",
          "Norwich",
          "Real Madrid",
          "Barcelona",
          "Atletico Madrid",
          "Sevilla",
          "Villarreal",
          "Real Sociedad",
          "Granada",
          "Getafe",
          "Valencia",
          "Osasuna",
          "Athletic Bilbao",
          "Levante",
          "Real Valladolid",
          "Eibar",
          "Real Betis",
          "Deportivo Alaves",
          "Celta Vigo",
          "Leganes",
          "Mallorca",
          "Espanyol"
         ],
         "legendgroup": "",
         "marker": {
          "color": "#636efa",
          "symbol": "circle"
         },
         "mode": "markers",
         "name": "",
         "scene": "scene",
         "showlegend": false,
         "type": "scatter3d",
         "x": [
          0.9246861924686193,
          0.9874476987447699,
          0.8200836820083682,
          0.8891213389121339,
          0.8305439330543932,
          0.7552301255230126,
          0.696652719665272,
          0.7845188284518828,
          0.606694560669456,
          0.5962343096234309,
          0.707112970711297,
          0.702928870292887,
          0.5523012552301254,
          0.6485355648535565,
          0.7594142259414226,
          0.6276150627615062,
          0.6338912133891214,
          0.6317991631799162,
          0.6046025104602509,
          0.7196652719665272,
          0.8723849372384936,
          0.9999999999999999,
          0.700836820083682,
          0.8472803347280334,
          0.2970711297071129,
          0.8200836820083682,
          0.6234309623430963,
          0.6359832635983262,
          0.711297071129707,
          0.6778242677824267,
          0.702928870292887,
          0.698744769874477,
          0,
          0.6548117154811716,
          0.8430962343096234,
          0.5815899581589958,
          0.7510460251046024,
          0.6192468619246861,
          0.6464435146443513,
          0.6715481171548117
         ],
         "y": [
          0.5101458820020877,
          0.8243678884223772,
          0.6195274173091871,
          0.6169182981145226,
          0.5109440495717149,
          0.45666865483705277,
          0.24264236859314525,
          0.49139647399857644,
          0.13910582260773624,
          0.08181417597259777,
          0.21321563315190045,
          0.2547956063538349,
          0.15306091454259851,
          0.26147539953369403,
          0.39130008371095937,
          0.2110786334132425,
          0.18372068467749164,
          0.28423595381290845,
          0.1906888142536038,
          0.35707357606422574,
          0.45421275462281474,
          0.9999999999999999,
          0.30647786910818486,
          0.32782160431148943,
          0.3285934586645357,
          0.44868697914077893,
          0.09545087854715423,
          0,
          0.3056972217491717,
          0.10590061357147196,
          0.1515718347975663,
          0.21298682889716242,
          0.12314702870035965,
          0.04889157504814229,
          0.38683575662660274,
          0.10574098005754651,
          0.3880262438490979,
          0.12148592738875336,
          0.2729127432517263,
          0.15724179228826574
         ],
         "z": [
          0.7059052868801419,
          1,
          0.56222537279905,
          0.6919849520566068,
          0.5133286856263,
          0.30760073285944783,
          0.5225937829891737,
          0.31317637203889753,
          0.3077285413101543,
          0.28807710893797017,
          0.32949722027209893,
          0.41684527729928206,
          0.007151897457978229,
          0.06665668379805473,
          0.19525006921697002,
          0.14212963930721106,
          0.06928748282564134,
          0.22822120460605616,
          0.14920124856511205,
          0,
          0.7030582317134015,
          0.7322742654372966,
          0.5237793451065534,
          0.6120062421240302,
          0.515641480893863,
          0.47535713537637103,
          0.35857088599675024,
          0.3556654043658368,
          0.19791320474186608,
          0.3097806980216712,
          0.19940274562312227,
          0.1931873469710005,
          0.15089350583294886,
          0.17314984113915433,
          0.2828466090564352,
          0.19411457123685585,
          0.2583431253263984,
          0.28179776571691856,
          0.11385446934003099,
          0.18522468482564144
         ]
        }
       ],
       "layout": {
        "legend": {
         "tracegroupgap": 0
        },
        "margin": {
         "t": 60
        },
        "scene": {
         "domain": {
          "x": [
           0,
           1
          ],
          "y": [
           0,
           1
          ]
         },
         "xaxis": {
          "title": {
           "text": "Possession"
          }
         },
         "yaxis": {
          "title": {
           "text": "SPPLBP"
          }
         },
         "zaxis": {
          "title": {
           "text": "npxGD"
          }
         }
        },
        "template": {
         "data": {
          "bar": [
           {
            "error_x": {
             "color": "#2a3f5f"
            },
            "error_y": {
             "color": "#2a3f5f"
            },
            "marker": {
             "line": {
              "color": "#E5ECF6",
              "width": 0.5
             },
             "pattern": {
              "fillmode": "overlay",
              "size": 10,
              "solidity": 0.2
             }
            },
            "type": "bar"
           }
          ],
          "barpolar": [
           {
            "marker": {
             "line": {
              "color": "#E5ECF6",
              "width": 0.5
             },
             "pattern": {
              "fillmode": "overlay",
              "size": 10,
              "solidity": 0.2
             }
            },
            "type": "barpolar"
           }
          ],
          "carpet": [
           {
            "aaxis": {
             "endlinecolor": "#2a3f5f",
             "gridcolor": "white",
             "linecolor": "white",
             "minorgridcolor": "white",
             "startlinecolor": "#2a3f5f"
            },
            "baxis": {
             "endlinecolor": "#2a3f5f",
             "gridcolor": "white",
             "linecolor": "white",
             "minorgridcolor": "white",
             "startlinecolor": "#2a3f5f"
            },
            "type": "carpet"
           }
          ],
          "choropleth": [
           {
            "colorbar": {
             "outlinewidth": 0,
             "ticks": ""
            },
            "type": "choropleth"
           }
          ],
          "contour": [
           {
            "colorbar": {
             "outlinewidth": 0,
             "ticks": ""
            },
            "colorscale": [
             [
              0,
              "#0d0887"
             ],
             [
              0.1111111111111111,
              "#46039f"
             ],
             [
              0.2222222222222222,
              "#7201a8"
             ],
             [
              0.3333333333333333,
              "#9c179e"
             ],
             [
              0.4444444444444444,
              "#bd3786"
             ],
             [
              0.5555555555555556,
              "#d8576b"
             ],
             [
              0.6666666666666666,
              "#ed7953"
             ],
             [
              0.7777777777777778,
              "#fb9f3a"
             ],
             [
              0.8888888888888888,
              "#fdca26"
             ],
             [
              1,
              "#f0f921"
             ]
            ],
            "type": "contour"
           }
          ],
          "contourcarpet": [
           {
            "colorbar": {
             "outlinewidth": 0,
             "ticks": ""
            },
            "type": "contourcarpet"
           }
          ],
          "heatmap": [
           {
            "colorbar": {
             "outlinewidth": 0,
             "ticks": ""
            },
            "colorscale": [
             [
              0,
              "#0d0887"
             ],
             [
              0.1111111111111111,
              "#46039f"
             ],
             [
              0.2222222222222222,
              "#7201a8"
             ],
             [
              0.3333333333333333,
              "#9c179e"
             ],
             [
              0.4444444444444444,
              "#bd3786"
             ],
             [
              0.5555555555555556,
              "#d8576b"
             ],
             [
              0.6666666666666666,
              "#ed7953"
             ],
             [
              0.7777777777777778,
              "#fb9f3a"
             ],
             [
              0.8888888888888888,
              "#fdca26"
             ],
             [
              1,
              "#f0f921"
             ]
            ],
            "type": "heatmap"
           }
          ],
          "heatmapgl": [
           {
            "colorbar": {
             "outlinewidth": 0,
             "ticks": ""
            },
            "colorscale": [
             [
              0,
              "#0d0887"
             ],
             [
              0.1111111111111111,
              "#46039f"
             ],
             [
              0.2222222222222222,
              "#7201a8"
             ],
             [
              0.3333333333333333,
              "#9c179e"
             ],
             [
              0.4444444444444444,
              "#bd3786"
             ],
             [
              0.5555555555555556,
              "#d8576b"
             ],
             [
              0.6666666666666666,
              "#ed7953"
             ],
             [
              0.7777777777777778,
              "#fb9f3a"
             ],
             [
              0.8888888888888888,
              "#fdca26"
             ],
             [
              1,
              "#f0f921"
             ]
            ],
            "type": "heatmapgl"
           }
          ],
          "histogram": [
           {
            "marker": {
             "pattern": {
              "fillmode": "overlay",
              "size": 10,
              "solidity": 0.2
             }
            },
            "type": "histogram"
           }
          ],
          "histogram2d": [
           {
            "colorbar": {
             "outlinewidth": 0,
             "ticks": ""
            },
            "colorscale": [
             [
              0,
              "#0d0887"
             ],
             [
              0.1111111111111111,
              "#46039f"
             ],
             [
              0.2222222222222222,
              "#7201a8"
             ],
             [
              0.3333333333333333,
              "#9c179e"
             ],
             [
              0.4444444444444444,
              "#bd3786"
             ],
             [
              0.5555555555555556,
              "#d8576b"
             ],
             [
              0.6666666666666666,
              "#ed7953"
             ],
             [
              0.7777777777777778,
              "#fb9f3a"
             ],
             [
              0.8888888888888888,
              "#fdca26"
             ],
             [
              1,
              "#f0f921"
             ]
            ],
            "type": "histogram2d"
           }
          ],
          "histogram2dcontour": [
           {
            "colorbar": {
             "outlinewidth": 0,
             "ticks": ""
            },
            "colorscale": [
             [
              0,
              "#0d0887"
             ],
             [
              0.1111111111111111,
              "#46039f"
             ],
             [
              0.2222222222222222,
              "#7201a8"
             ],
             [
              0.3333333333333333,
              "#9c179e"
             ],
             [
              0.4444444444444444,
              "#bd3786"
             ],
             [
              0.5555555555555556,
              "#d8576b"
             ],
             [
              0.6666666666666666,
              "#ed7953"
             ],
             [
              0.7777777777777778,
              "#fb9f3a"
             ],
             [
              0.8888888888888888,
              "#fdca26"
             ],
             [
              1,
              "#f0f921"
             ]
            ],
            "type": "histogram2dcontour"
           }
          ],
          "mesh3d": [
           {
            "colorbar": {
             "outlinewidth": 0,
             "ticks": ""
            },
            "type": "mesh3d"
           }
          ],
          "parcoords": [
           {
            "line": {
             "colorbar": {
              "outlinewidth": 0,
              "ticks": ""
             }
            },
            "type": "parcoords"
           }
          ],
          "pie": [
           {
            "automargin": true,
            "type": "pie"
           }
          ],
          "scatter": [
           {
            "fillpattern": {
             "fillmode": "overlay",
             "size": 10,
             "solidity": 0.2
            },
            "type": "scatter"
           }
          ],
          "scatter3d": [
           {
            "line": {
             "colorbar": {
              "outlinewidth": 0,
              "ticks": ""
             }
            },
            "marker": {
             "colorbar": {
              "outlinewidth": 0,
              "ticks": ""
             }
            },
            "type": "scatter3d"
           }
          ],
          "scattercarpet": [
           {
            "marker": {
             "colorbar": {
              "outlinewidth": 0,
              "ticks": ""
             }
            },
            "type": "scattercarpet"
           }
          ],
          "scattergeo": [
           {
            "marker": {
             "colorbar": {
              "outlinewidth": 0,
              "ticks": ""
             }
            },
            "type": "scattergeo"
           }
          ],
          "scattergl": [
           {
            "marker": {
             "colorbar": {
              "outlinewidth": 0,
              "ticks": ""
             }
            },
            "type": "scattergl"
           }
          ],
          "scattermapbox": [
           {
            "marker": {
             "colorbar": {
              "outlinewidth": 0,
              "ticks": ""
             }
            },
            "type": "scattermapbox"
           }
          ],
          "scatterpolar": [
           {
            "marker": {
             "colorbar": {
              "outlinewidth": 0,
              "ticks": ""
             }
            },
            "type": "scatterpolar"
           }
          ],
          "scatterpolargl": [
           {
            "marker": {
             "colorbar": {
              "outlinewidth": 0,
              "ticks": ""
             }
            },
            "type": "scatterpolargl"
           }
          ],
          "scatterternary": [
           {
            "marker": {
             "colorbar": {
              "outlinewidth": 0,
              "ticks": ""
             }
            },
            "type": "scatterternary"
           }
          ],
          "surface": [
           {
            "colorbar": {
             "outlinewidth": 0,
             "ticks": ""
            },
            "colorscale": [
             [
              0,
              "#0d0887"
             ],
             [
              0.1111111111111111,
              "#46039f"
             ],
             [
              0.2222222222222222,
              "#7201a8"
             ],
             [
              0.3333333333333333,
              "#9c179e"
             ],
             [
              0.4444444444444444,
              "#bd3786"
             ],
             [
              0.5555555555555556,
              "#d8576b"
             ],
             [
              0.6666666666666666,
              "#ed7953"
             ],
             [
              0.7777777777777778,
              "#fb9f3a"
             ],
             [
              0.8888888888888888,
              "#fdca26"
             ],
             [
              1,
              "#f0f921"
             ]
            ],
            "type": "surface"
           }
          ],
          "table": [
           {
            "cells": {
             "fill": {
              "color": "#EBF0F8"
             },
             "line": {
              "color": "white"
             }
            },
            "header": {
             "fill": {
              "color": "#C8D4E3"
             },
             "line": {
              "color": "white"
             }
            },
            "type": "table"
           }
          ]
         },
         "layout": {
          "annotationdefaults": {
           "arrowcolor": "#2a3f5f",
           "arrowhead": 0,
           "arrowwidth": 1
          },
          "autotypenumbers": "strict",
          "coloraxis": {
           "colorbar": {
            "outlinewidth": 0,
            "ticks": ""
           }
          },
          "colorscale": {
           "diverging": [
            [
             0,
             "#8e0152"
            ],
            [
             0.1,
             "#c51b7d"
            ],
            [
             0.2,
             "#de77ae"
            ],
            [
             0.3,
             "#f1b6da"
            ],
            [
             0.4,
             "#fde0ef"
            ],
            [
             0.5,
             "#f7f7f7"
            ],
            [
             0.6,
             "#e6f5d0"
            ],
            [
             0.7,
             "#b8e186"
            ],
            [
             0.8,
             "#7fbc41"
            ],
            [
             0.9,
             "#4d9221"
            ],
            [
             1,
             "#276419"
            ]
           ],
           "sequential": [
            [
             0,
             "#0d0887"
            ],
            [
             0.1111111111111111,
             "#46039f"
            ],
            [
             0.2222222222222222,
             "#7201a8"
            ],
            [
             0.3333333333333333,
             "#9c179e"
            ],
            [
             0.4444444444444444,
             "#bd3786"
            ],
            [
             0.5555555555555556,
             "#d8576b"
            ],
            [
             0.6666666666666666,
             "#ed7953"
            ],
            [
             0.7777777777777778,
             "#fb9f3a"
            ],
            [
             0.8888888888888888,
             "#fdca26"
            ],
            [
             1,
             "#f0f921"
            ]
           ],
           "sequentialminus": [
            [
             0,
             "#0d0887"
            ],
            [
             0.1111111111111111,
             "#46039f"
            ],
            [
             0.2222222222222222,
             "#7201a8"
            ],
            [
             0.3333333333333333,
             "#9c179e"
            ],
            [
             0.4444444444444444,
             "#bd3786"
            ],
            [
             0.5555555555555556,
             "#d8576b"
            ],
            [
             0.6666666666666666,
             "#ed7953"
            ],
            [
             0.7777777777777778,
             "#fb9f3a"
            ],
            [
             0.8888888888888888,
             "#fdca26"
            ],
            [
             1,
             "#f0f921"
            ]
           ]
          },
          "colorway": [
           "#636efa",
           "#EF553B",
           "#00cc96",
           "#ab63fa",
           "#FFA15A",
           "#19d3f3",
           "#FF6692",
           "#B6E880",
           "#FF97FF",
           "#FECB52"
          ],
          "font": {
           "color": "#2a3f5f"
          },
          "geo": {
           "bgcolor": "white",
           "lakecolor": "white",
           "landcolor": "#E5ECF6",
           "showlakes": true,
           "showland": true,
           "subunitcolor": "white"
          },
          "hoverlabel": {
           "align": "left"
          },
          "hovermode": "closest",
          "mapbox": {
           "style": "light"
          },
          "paper_bgcolor": "white",
          "plot_bgcolor": "#E5ECF6",
          "polar": {
           "angularaxis": {
            "gridcolor": "white",
            "linecolor": "white",
            "ticks": ""
           },
           "bgcolor": "#E5ECF6",
           "radialaxis": {
            "gridcolor": "white",
            "linecolor": "white",
            "ticks": ""
           }
          },
          "scene": {
           "xaxis": {
            "backgroundcolor": "#E5ECF6",
            "gridcolor": "white",
            "gridwidth": 2,
            "linecolor": "white",
            "showbackground": true,
            "ticks": "",
            "zerolinecolor": "white"
           },
           "yaxis": {
            "backgroundcolor": "#E5ECF6",
            "gridcolor": "white",
            "gridwidth": 2,
            "linecolor": "white",
            "showbackground": true,
            "ticks": "",
            "zerolinecolor": "white"
           },
           "zaxis": {
            "backgroundcolor": "#E5ECF6",
            "gridcolor": "white",
            "gridwidth": 2,
            "linecolor": "white",
            "showbackground": true,
            "ticks": "",
            "zerolinecolor": "white"
           }
          },
          "shapedefaults": {
           "line": {
            "color": "#2a3f5f"
           }
          },
          "ternary": {
           "aaxis": {
            "gridcolor": "white",
            "linecolor": "white",
            "ticks": ""
           },
           "baxis": {
            "gridcolor": "white",
            "linecolor": "white",
            "ticks": ""
           },
           "bgcolor": "#E5ECF6",
           "caxis": {
            "gridcolor": "white",
            "linecolor": "white",
            "ticks": ""
           }
          },
          "title": {
           "x": 0.05
          },
          "xaxis": {
           "automargin": true,
           "gridcolor": "white",
           "linecolor": "white",
           "ticks": "",
           "title": {
            "standoff": 15
           },
           "zerolinecolor": "white",
           "zerolinewidth": 2
          },
          "yaxis": {
           "automargin": true,
           "gridcolor": "white",
           "linecolor": "white",
           "ticks": "",
           "title": {
            "standoff": 15
           },
           "zerolinecolor": "white",
           "zerolinewidth": 2
          }
         }
        }
       }
      }
     },
     "metadata": {},
     "output_type": "display_data"
    }
   ],
   "source": [
    "overview = px.scatter_3d(df_prepared, x = 'Possession', y = 'SPPLBP', z = 'npxGD', hover_name = 'Team')\n",
    "overview.show()"
   ]
  },
  {
   "attachments": {},
   "cell_type": "markdown",
   "metadata": {},
   "source": [
    "# KMeans Clustering "
   ]
  },
  {
   "cell_type": "code",
   "execution_count": 128,
   "metadata": {},
   "outputs": [
    {
     "data": {
      "application/vnd.plotly.v1+json": {
       "config": {
        "plotlyServerURL": "https://plot.ly"
       },
       "data": [
        {
         "hovertemplate": "<b>%{hovertext}</b><br><br>Possession=%{x}<br>SPPLBP=%{y}<br>npxGD=%{z}<br>cluster=%{marker.color}<extra></extra>",
         "hovertext": [
          "Liverpool",
          "Manchester City",
          "Manchester United",
          "Chelsea",
          "Leicester",
          "Tottenham",
          "Wolverhampton",
          "Arsenal",
          "Sheffield United",
          "Burnley",
          "Southampton",
          "Everton",
          "Newcastle",
          "Crystal Palace",
          "Brighton",
          "West Ham",
          "Aston Villa",
          "Bournemouth",
          "Watford",
          "Norwich",
          "Real Madrid",
          "Barcelona",
          "Atletico Madrid",
          "Sevilla",
          "Villarreal",
          "Real Sociedad",
          "Granada",
          "Getafe",
          "Valencia",
          "Osasuna",
          "Athletic Bilbao",
          "Levante",
          "Real Valladolid",
          "Eibar",
          "Real Betis",
          "Deportivo Alaves",
          "Celta Vigo",
          "Leganes",
          "Mallorca",
          "Espanyol"
         ],
         "legendgroup": "",
         "marker": {
          "color": [
           1,
           1,
           1,
           1,
           1,
           0,
           0,
           0,
           0,
           0,
           0,
           0,
           0,
           0,
           0,
           0,
           0,
           0,
           0,
           0,
           1,
           1,
           0,
           1,
           2,
           1,
           0,
           0,
           0,
           0,
           0,
           0,
           2,
           0,
           0,
           0,
           0,
           0,
           0,
           0
          ],
          "coloraxis": "coloraxis",
          "symbol": "circle"
         },
         "mode": "markers",
         "name": "",
         "scene": "scene",
         "showlegend": false,
         "type": "scatter3d",
         "x": [
          0.9246861924686193,
          0.9874476987447699,
          0.8200836820083682,
          0.8891213389121339,
          0.8305439330543932,
          0.7552301255230126,
          0.696652719665272,
          0.7845188284518828,
          0.606694560669456,
          0.5962343096234309,
          0.707112970711297,
          0.702928870292887,
          0.5523012552301254,
          0.6485355648535565,
          0.7594142259414226,
          0.6276150627615062,
          0.6338912133891214,
          0.6317991631799162,
          0.6046025104602509,
          0.7196652719665272,
          0.8723849372384936,
          0.9999999999999999,
          0.700836820083682,
          0.8472803347280334,
          0.2970711297071129,
          0.8200836820083682,
          0.6234309623430963,
          0.6359832635983262,
          0.711297071129707,
          0.6778242677824267,
          0.702928870292887,
          0.698744769874477,
          0,
          0.6548117154811716,
          0.8430962343096234,
          0.5815899581589958,
          0.7510460251046024,
          0.6192468619246861,
          0.6464435146443513,
          0.6715481171548117
         ],
         "y": [
          0.5101458820020877,
          0.8243678884223772,
          0.6195274173091871,
          0.6169182981145226,
          0.5109440495717149,
          0.45666865483705277,
          0.24264236859314525,
          0.49139647399857644,
          0.13910582260773624,
          0.08181417597259777,
          0.21321563315190045,
          0.2547956063538349,
          0.15306091454259851,
          0.26147539953369403,
          0.39130008371095937,
          0.2110786334132425,
          0.18372068467749164,
          0.28423595381290845,
          0.1906888142536038,
          0.35707357606422574,
          0.45421275462281474,
          0.9999999999999999,
          0.30647786910818486,
          0.32782160431148943,
          0.3285934586645357,
          0.44868697914077893,
          0.09545087854715423,
          0,
          0.3056972217491717,
          0.10590061357147196,
          0.1515718347975663,
          0.21298682889716242,
          0.12314702870035965,
          0.04889157504814229,
          0.38683575662660274,
          0.10574098005754651,
          0.3880262438490979,
          0.12148592738875336,
          0.2729127432517263,
          0.15724179228826574
         ],
         "z": [
          0.7059052868801419,
          1,
          0.56222537279905,
          0.6919849520566068,
          0.5133286856263,
          0.30760073285944783,
          0.5225937829891737,
          0.31317637203889753,
          0.3077285413101543,
          0.28807710893797017,
          0.32949722027209893,
          0.41684527729928206,
          0.007151897457978229,
          0.06665668379805473,
          0.19525006921697002,
          0.14212963930721106,
          0.06928748282564134,
          0.22822120460605616,
          0.14920124856511205,
          0,
          0.7030582317134015,
          0.7322742654372966,
          0.5237793451065534,
          0.6120062421240302,
          0.515641480893863,
          0.47535713537637103,
          0.35857088599675024,
          0.3556654043658368,
          0.19791320474186608,
          0.3097806980216712,
          0.19940274562312227,
          0.1931873469710005,
          0.15089350583294886,
          0.17314984113915433,
          0.2828466090564352,
          0.19411457123685585,
          0.2583431253263984,
          0.28179776571691856,
          0.11385446934003099,
          0.18522468482564144
         ]
        }
       ],
       "layout": {
        "coloraxis": {
         "colorbar": {
          "title": {
           "text": "cluster"
          }
         },
         "colorscale": [
          [
           0,
           "#0d0887"
          ],
          [
           0.1111111111111111,
           "#46039f"
          ],
          [
           0.2222222222222222,
           "#7201a8"
          ],
          [
           0.3333333333333333,
           "#9c179e"
          ],
          [
           0.4444444444444444,
           "#bd3786"
          ],
          [
           0.5555555555555556,
           "#d8576b"
          ],
          [
           0.6666666666666666,
           "#ed7953"
          ],
          [
           0.7777777777777778,
           "#fb9f3a"
          ],
          [
           0.8888888888888888,
           "#fdca26"
          ],
          [
           1,
           "#f0f921"
          ]
         ]
        },
        "legend": {
         "tracegroupgap": 0
        },
        "scene": {
         "domain": {
          "x": [
           0,
           1
          ],
          "y": [
           0,
           1
          ]
         },
         "xaxis": {
          "title": {
           "text": "Possession"
          }
         },
         "yaxis": {
          "title": {
           "text": "SPPLBP"
          }
         },
         "zaxis": {
          "title": {
           "text": "npxGD"
          }
         }
        },
        "template": {
         "data": {
          "bar": [
           {
            "error_x": {
             "color": "#2a3f5f"
            },
            "error_y": {
             "color": "#2a3f5f"
            },
            "marker": {
             "line": {
              "color": "#E5ECF6",
              "width": 0.5
             },
             "pattern": {
              "fillmode": "overlay",
              "size": 10,
              "solidity": 0.2
             }
            },
            "type": "bar"
           }
          ],
          "barpolar": [
           {
            "marker": {
             "line": {
              "color": "#E5ECF6",
              "width": 0.5
             },
             "pattern": {
              "fillmode": "overlay",
              "size": 10,
              "solidity": 0.2
             }
            },
            "type": "barpolar"
           }
          ],
          "carpet": [
           {
            "aaxis": {
             "endlinecolor": "#2a3f5f",
             "gridcolor": "white",
             "linecolor": "white",
             "minorgridcolor": "white",
             "startlinecolor": "#2a3f5f"
            },
            "baxis": {
             "endlinecolor": "#2a3f5f",
             "gridcolor": "white",
             "linecolor": "white",
             "minorgridcolor": "white",
             "startlinecolor": "#2a3f5f"
            },
            "type": "carpet"
           }
          ],
          "choropleth": [
           {
            "colorbar": {
             "outlinewidth": 0,
             "ticks": ""
            },
            "type": "choropleth"
           }
          ],
          "contour": [
           {
            "colorbar": {
             "outlinewidth": 0,
             "ticks": ""
            },
            "colorscale": [
             [
              0,
              "#0d0887"
             ],
             [
              0.1111111111111111,
              "#46039f"
             ],
             [
              0.2222222222222222,
              "#7201a8"
             ],
             [
              0.3333333333333333,
              "#9c179e"
             ],
             [
              0.4444444444444444,
              "#bd3786"
             ],
             [
              0.5555555555555556,
              "#d8576b"
             ],
             [
              0.6666666666666666,
              "#ed7953"
             ],
             [
              0.7777777777777778,
              "#fb9f3a"
             ],
             [
              0.8888888888888888,
              "#fdca26"
             ],
             [
              1,
              "#f0f921"
             ]
            ],
            "type": "contour"
           }
          ],
          "contourcarpet": [
           {
            "colorbar": {
             "outlinewidth": 0,
             "ticks": ""
            },
            "type": "contourcarpet"
           }
          ],
          "heatmap": [
           {
            "colorbar": {
             "outlinewidth": 0,
             "ticks": ""
            },
            "colorscale": [
             [
              0,
              "#0d0887"
             ],
             [
              0.1111111111111111,
              "#46039f"
             ],
             [
              0.2222222222222222,
              "#7201a8"
             ],
             [
              0.3333333333333333,
              "#9c179e"
             ],
             [
              0.4444444444444444,
              "#bd3786"
             ],
             [
              0.5555555555555556,
              "#d8576b"
             ],
             [
              0.6666666666666666,
              "#ed7953"
             ],
             [
              0.7777777777777778,
              "#fb9f3a"
             ],
             [
              0.8888888888888888,
              "#fdca26"
             ],
             [
              1,
              "#f0f921"
             ]
            ],
            "type": "heatmap"
           }
          ],
          "heatmapgl": [
           {
            "colorbar": {
             "outlinewidth": 0,
             "ticks": ""
            },
            "colorscale": [
             [
              0,
              "#0d0887"
             ],
             [
              0.1111111111111111,
              "#46039f"
             ],
             [
              0.2222222222222222,
              "#7201a8"
             ],
             [
              0.3333333333333333,
              "#9c179e"
             ],
             [
              0.4444444444444444,
              "#bd3786"
             ],
             [
              0.5555555555555556,
              "#d8576b"
             ],
             [
              0.6666666666666666,
              "#ed7953"
             ],
             [
              0.7777777777777778,
              "#fb9f3a"
             ],
             [
              0.8888888888888888,
              "#fdca26"
             ],
             [
              1,
              "#f0f921"
             ]
            ],
            "type": "heatmapgl"
           }
          ],
          "histogram": [
           {
            "marker": {
             "pattern": {
              "fillmode": "overlay",
              "size": 10,
              "solidity": 0.2
             }
            },
            "type": "histogram"
           }
          ],
          "histogram2d": [
           {
            "colorbar": {
             "outlinewidth": 0,
             "ticks": ""
            },
            "colorscale": [
             [
              0,
              "#0d0887"
             ],
             [
              0.1111111111111111,
              "#46039f"
             ],
             [
              0.2222222222222222,
              "#7201a8"
             ],
             [
              0.3333333333333333,
              "#9c179e"
             ],
             [
              0.4444444444444444,
              "#bd3786"
             ],
             [
              0.5555555555555556,
              "#d8576b"
             ],
             [
              0.6666666666666666,
              "#ed7953"
             ],
             [
              0.7777777777777778,
              "#fb9f3a"
             ],
             [
              0.8888888888888888,
              "#fdca26"
             ],
             [
              1,
              "#f0f921"
             ]
            ],
            "type": "histogram2d"
           }
          ],
          "histogram2dcontour": [
           {
            "colorbar": {
             "outlinewidth": 0,
             "ticks": ""
            },
            "colorscale": [
             [
              0,
              "#0d0887"
             ],
             [
              0.1111111111111111,
              "#46039f"
             ],
             [
              0.2222222222222222,
              "#7201a8"
             ],
             [
              0.3333333333333333,
              "#9c179e"
             ],
             [
              0.4444444444444444,
              "#bd3786"
             ],
             [
              0.5555555555555556,
              "#d8576b"
             ],
             [
              0.6666666666666666,
              "#ed7953"
             ],
             [
              0.7777777777777778,
              "#fb9f3a"
             ],
             [
              0.8888888888888888,
              "#fdca26"
             ],
             [
              1,
              "#f0f921"
             ]
            ],
            "type": "histogram2dcontour"
           }
          ],
          "mesh3d": [
           {
            "colorbar": {
             "outlinewidth": 0,
             "ticks": ""
            },
            "type": "mesh3d"
           }
          ],
          "parcoords": [
           {
            "line": {
             "colorbar": {
              "outlinewidth": 0,
              "ticks": ""
             }
            },
            "type": "parcoords"
           }
          ],
          "pie": [
           {
            "automargin": true,
            "type": "pie"
           }
          ],
          "scatter": [
           {
            "fillpattern": {
             "fillmode": "overlay",
             "size": 10,
             "solidity": 0.2
            },
            "type": "scatter"
           }
          ],
          "scatter3d": [
           {
            "line": {
             "colorbar": {
              "outlinewidth": 0,
              "ticks": ""
             }
            },
            "marker": {
             "colorbar": {
              "outlinewidth": 0,
              "ticks": ""
             }
            },
            "type": "scatter3d"
           }
          ],
          "scattercarpet": [
           {
            "marker": {
             "colorbar": {
              "outlinewidth": 0,
              "ticks": ""
             }
            },
            "type": "scattercarpet"
           }
          ],
          "scattergeo": [
           {
            "marker": {
             "colorbar": {
              "outlinewidth": 0,
              "ticks": ""
             }
            },
            "type": "scattergeo"
           }
          ],
          "scattergl": [
           {
            "marker": {
             "colorbar": {
              "outlinewidth": 0,
              "ticks": ""
             }
            },
            "type": "scattergl"
           }
          ],
          "scattermapbox": [
           {
            "marker": {
             "colorbar": {
              "outlinewidth": 0,
              "ticks": ""
             }
            },
            "type": "scattermapbox"
           }
          ],
          "scatterpolar": [
           {
            "marker": {
             "colorbar": {
              "outlinewidth": 0,
              "ticks": ""
             }
            },
            "type": "scatterpolar"
           }
          ],
          "scatterpolargl": [
           {
            "marker": {
             "colorbar": {
              "outlinewidth": 0,
              "ticks": ""
             }
            },
            "type": "scatterpolargl"
           }
          ],
          "scatterternary": [
           {
            "marker": {
             "colorbar": {
              "outlinewidth": 0,
              "ticks": ""
             }
            },
            "type": "scatterternary"
           }
          ],
          "surface": [
           {
            "colorbar": {
             "outlinewidth": 0,
             "ticks": ""
            },
            "colorscale": [
             [
              0,
              "#0d0887"
             ],
             [
              0.1111111111111111,
              "#46039f"
             ],
             [
              0.2222222222222222,
              "#7201a8"
             ],
             [
              0.3333333333333333,
              "#9c179e"
             ],
             [
              0.4444444444444444,
              "#bd3786"
             ],
             [
              0.5555555555555556,
              "#d8576b"
             ],
             [
              0.6666666666666666,
              "#ed7953"
             ],
             [
              0.7777777777777778,
              "#fb9f3a"
             ],
             [
              0.8888888888888888,
              "#fdca26"
             ],
             [
              1,
              "#f0f921"
             ]
            ],
            "type": "surface"
           }
          ],
          "table": [
           {
            "cells": {
             "fill": {
              "color": "#EBF0F8"
             },
             "line": {
              "color": "white"
             }
            },
            "header": {
             "fill": {
              "color": "#C8D4E3"
             },
             "line": {
              "color": "white"
             }
            },
            "type": "table"
           }
          ]
         },
         "layout": {
          "annotationdefaults": {
           "arrowcolor": "#2a3f5f",
           "arrowhead": 0,
           "arrowwidth": 1
          },
          "autotypenumbers": "strict",
          "coloraxis": {
           "colorbar": {
            "outlinewidth": 0,
            "ticks": ""
           }
          },
          "colorscale": {
           "diverging": [
            [
             0,
             "#8e0152"
            ],
            [
             0.1,
             "#c51b7d"
            ],
            [
             0.2,
             "#de77ae"
            ],
            [
             0.3,
             "#f1b6da"
            ],
            [
             0.4,
             "#fde0ef"
            ],
            [
             0.5,
             "#f7f7f7"
            ],
            [
             0.6,
             "#e6f5d0"
            ],
            [
             0.7,
             "#b8e186"
            ],
            [
             0.8,
             "#7fbc41"
            ],
            [
             0.9,
             "#4d9221"
            ],
            [
             1,
             "#276419"
            ]
           ],
           "sequential": [
            [
             0,
             "#0d0887"
            ],
            [
             0.1111111111111111,
             "#46039f"
            ],
            [
             0.2222222222222222,
             "#7201a8"
            ],
            [
             0.3333333333333333,
             "#9c179e"
            ],
            [
             0.4444444444444444,
             "#bd3786"
            ],
            [
             0.5555555555555556,
             "#d8576b"
            ],
            [
             0.6666666666666666,
             "#ed7953"
            ],
            [
             0.7777777777777778,
             "#fb9f3a"
            ],
            [
             0.8888888888888888,
             "#fdca26"
            ],
            [
             1,
             "#f0f921"
            ]
           ],
           "sequentialminus": [
            [
             0,
             "#0d0887"
            ],
            [
             0.1111111111111111,
             "#46039f"
            ],
            [
             0.2222222222222222,
             "#7201a8"
            ],
            [
             0.3333333333333333,
             "#9c179e"
            ],
            [
             0.4444444444444444,
             "#bd3786"
            ],
            [
             0.5555555555555556,
             "#d8576b"
            ],
            [
             0.6666666666666666,
             "#ed7953"
            ],
            [
             0.7777777777777778,
             "#fb9f3a"
            ],
            [
             0.8888888888888888,
             "#fdca26"
            ],
            [
             1,
             "#f0f921"
            ]
           ]
          },
          "colorway": [
           "#636efa",
           "#EF553B",
           "#00cc96",
           "#ab63fa",
           "#FFA15A",
           "#19d3f3",
           "#FF6692",
           "#B6E880",
           "#FF97FF",
           "#FECB52"
          ],
          "font": {
           "color": "#2a3f5f"
          },
          "geo": {
           "bgcolor": "white",
           "lakecolor": "white",
           "landcolor": "#E5ECF6",
           "showlakes": true,
           "showland": true,
           "subunitcolor": "white"
          },
          "hoverlabel": {
           "align": "left"
          },
          "hovermode": "closest",
          "mapbox": {
           "style": "light"
          },
          "paper_bgcolor": "white",
          "plot_bgcolor": "#E5ECF6",
          "polar": {
           "angularaxis": {
            "gridcolor": "white",
            "linecolor": "white",
            "ticks": ""
           },
           "bgcolor": "#E5ECF6",
           "radialaxis": {
            "gridcolor": "white",
            "linecolor": "white",
            "ticks": ""
           }
          },
          "scene": {
           "xaxis": {
            "backgroundcolor": "#E5ECF6",
            "gridcolor": "white",
            "gridwidth": 2,
            "linecolor": "white",
            "showbackground": true,
            "ticks": "",
            "zerolinecolor": "white"
           },
           "yaxis": {
            "backgroundcolor": "#E5ECF6",
            "gridcolor": "white",
            "gridwidth": 2,
            "linecolor": "white",
            "showbackground": true,
            "ticks": "",
            "zerolinecolor": "white"
           },
           "zaxis": {
            "backgroundcolor": "#E5ECF6",
            "gridcolor": "white",
            "gridwidth": 2,
            "linecolor": "white",
            "showbackground": true,
            "ticks": "",
            "zerolinecolor": "white"
           }
          },
          "shapedefaults": {
           "line": {
            "color": "#2a3f5f"
           }
          },
          "ternary": {
           "aaxis": {
            "gridcolor": "white",
            "linecolor": "white",
            "ticks": ""
           },
           "baxis": {
            "gridcolor": "white",
            "linecolor": "white",
            "ticks": ""
           },
           "bgcolor": "#E5ECF6",
           "caxis": {
            "gridcolor": "white",
            "linecolor": "white",
            "ticks": ""
           }
          },
          "title": {
           "x": 0.05
          },
          "xaxis": {
           "automargin": true,
           "gridcolor": "white",
           "linecolor": "white",
           "ticks": "",
           "title": {
            "standoff": 15
           },
           "zerolinecolor": "white",
           "zerolinewidth": 2
          },
          "yaxis": {
           "automargin": true,
           "gridcolor": "white",
           "linecolor": "white",
           "ticks": "",
           "title": {
            "standoff": 15
           },
           "zerolinecolor": "white",
           "zerolinewidth": 2
          }
         }
        },
        "title": {
         "text": "n = 3"
        }
       }
      }
     },
     "metadata": {},
     "output_type": "display_data"
    }
   ],
   "source": [
    "RS = 42\n",
    "n = 3\n",
    "kmeans_v1 = KMeans(n_clusters = n, max_iter = 300, random_state = RS)\n",
    "kmeans_v1.fit(df_prepared[[\"Possession\",\"SPPLBP\",\"npxGD\"]])\n",
    "df_prepared[\"cluster\"] = kmeans_v1.labels_\n",
    "kmeans_v1_fig = px.scatter_3d(df_prepared, x = 'Possession', y = 'SPPLBP', z = 'npxGD', hover_name = 'Team', color = 'cluster', title = 'n = 3')\n",
    "kmeans_v1_fig.show()"
   ]
  },
  {
   "attachments": {},
   "cell_type": "markdown",
   "metadata": {},
   "source": [
    "## Tuning"
   ]
  },
  {
   "cell_type": "code",
   "execution_count": 129,
   "metadata": {},
   "outputs": [],
   "source": [
    "distortions = []\n",
    "K = range(1, 10)\n",
    "\n",
    "for k in K:\n",
    "\tkmeanModel = KMeans(n_clusters=k, random_state = RS)\n",
    "\tkmeanModel.fit(df_prepared[[\"Possession\",\"SPPLBP\",\"npxGD\"]])\n",
    "\n",
    "\t\n",
    "\tcdist_result = cdist(df_prepared[[\"Possession\",\"SPPLBP\",\"npxGD\"]], kmeanModel.cluster_centers_,'euclidean')\n",
    "\tminimum_cdist = np.min(cdist_result, axis = 1)\n",
    "\tsum_minimum_cdsit = np.sum(minimum_cdist)\n",
    "\tavg_cdist = sum_minimum_cdsit / df_prepared.shape[0]\n",
    "\n",
    "\tdistortions.append(avg_cdist)"
   ]
  },
  {
   "cell_type": "code",
   "execution_count": 130,
   "metadata": {},
   "outputs": [
    {
     "data": {
      "image/png": "[encoded data removed]",
      "text/plain": [
       "<Figure size 432x288 with 1 Axes>"
      ]
     },
     "metadata": {
      "needs_background": "light"
     },
     "output_type": "display_data"
    }
   ],
   "source": [
    "plt.plot(K, distortions, 'bx-')\n",
    "plt.xlabel('Values of K')\n",
    "plt.ylabel('Distortion')\n",
    "plt.title('The Elbow Method using Distortion')\n",
    "plt.show()"
   ]
  },
  {
   "attachments": {},
   "cell_type": "markdown",
   "metadata": {},
   "source": [
    "## Final KMeans"
   ]
  },
  {
   "cell_type": "code",
   "execution_count": 138,
   "metadata": {},
   "outputs": [
    {
     "data": {
      "application/vnd.plotly.v1+json": {
       "config": {
        "plotlyServerURL": "https://plot.ly"
       },
       "data": [
        {
         "hovertemplate": "<b>%{hovertext}</b><br><br>Possession=%{x}<br>SPPLBP=%{y}<br>npxGD=%{z}<br>cluster=%{marker.color}<extra></extra>",
         "hovertext": [
          "Liverpool",
          "Manchester City",
          "Manchester United",
          "Chelsea",
          "Leicester",
          "Tottenham",
          "Wolverhampton",
          "Arsenal",
          "Sheffield United",
          "Burnley",
          "Southampton",
          "Everton",
          "Newcastle",
          "Crystal Palace",
          "Brighton",
          "West Ham",
          "Aston Villa",
          "Bournemouth",
          "Watford",
          "Norwich",
          "Real Madrid",
          "Barcelona",
          "Atletico Madrid",
          "Sevilla",
          "Villarreal",
          "Real Sociedad",
          "Granada",
          "Getafe",
          "Valencia",
          "Osasuna",
          "Athletic Bilbao",
          "Levante",
          "Real Valladolid",
          "Eibar",
          "Real Betis",
          "Deportivo Alaves",
          "Celta Vigo",
          "Leganes",
          "Mallorca",
          "Espanyol"
         ],
         "legendgroup": "",
         "marker": {
          "color": [
           4,
           1,
           4,
           4,
           4,
           6,
           2,
           6,
           2,
           2,
           2,
           2,
           3,
           3,
           6,
           3,
           3,
           3,
           3,
           3,
           4,
           1,
           2,
           4,
           5,
           4,
           2,
           2,
           3,
           2,
           3,
           3,
           5,
           3,
           6,
           3,
           6,
           2,
           3,
           3
          ],
          "coloraxis": "coloraxis",
          "symbol": "circle"
         },
         "mode": "markers",
         "name": "",
         "scene": "scene",
         "showlegend": false,
         "type": "scatter3d",
         "x": [
          0.9246861924686193,
          0.9874476987447699,
          0.8200836820083682,
          0.8891213389121339,
          0.8305439330543932,
          0.7552301255230126,
          0.696652719665272,
          0.7845188284518828,
          0.606694560669456,
          0.5962343096234309,
          0.707112970711297,
          0.702928870292887,
          0.5523012552301254,
          0.6485355648535565,
          0.7594142259414226,
          0.6276150627615062,
          0.6338912133891214,
          0.6317991631799162,
          0.6046025104602509,
          0.7196652719665272,
          0.8723849372384936,
          0.9999999999999999,
          0.700836820083682,
          0.8472803347280334,
          0.2970711297071129,
          0.8200836820083682,
          0.6234309623430963,
          0.6359832635983262,
          0.711297071129707,
          0.6778242677824267,
          0.702928870292887,
          0.698744769874477,
          0,
          0.6548117154811716,
          0.8430962343096234,
          0.5815899581589958,
          0.7510460251046024,
          0.6192468619246861,
          0.6464435146443513,
          0.6715481171548117
         ],
         "y": [
          0.5101458820020877,
          0.8243678884223772,
          0.6195274173091871,
          0.6169182981145226,
          0.5109440495717149,
          0.45666865483705277,
          0.24264236859314525,
          0.49139647399857644,
          0.13910582260773624,
          0.08181417597259777,
          0.21321563315190045,
          0.2547956063538349,
          0.15306091454259851,
          0.26147539953369403,
          0.39130008371095937,
          0.2110786334132425,
          0.18372068467749164,
          0.28423595381290845,
          0.1906888142536038,
          0.35707357606422574,
          0.45421275462281474,
          0.9999999999999999,
          0.30647786910818486,
          0.32782160431148943,
          0.3285934586645357,
          0.44868697914077893,
          0.09545087854715423,
          0,
          0.3056972217491717,
          0.10590061357147196,
          0.1515718347975663,
          0.21298682889716242,
          0.12314702870035965,
          0.04889157504814229,
          0.38683575662660274,
          0.10574098005754651,
          0.3880262438490979,
          0.12148592738875336,
          0.2729127432517263,
          0.15724179228826574
         ],
         "z": [
          0.7059052868801419,
          1,
          0.56222537279905,
          0.6919849520566068,
          0.5133286856263,
          0.30760073285944783,
          0.5225937829891737,
          0.31317637203889753,
          0.3077285413101543,
          0.28807710893797017,
          0.32949722027209893,
          0.41684527729928206,
          0.007151897457978229,
          0.06665668379805473,
          0.19525006921697002,
          0.14212963930721106,
          0.06928748282564134,
          0.22822120460605616,
          0.14920124856511205,
          0,
          0.7030582317134015,
          0.7322742654372966,
          0.5237793451065534,
          0.6120062421240302,
          0.515641480893863,
          0.47535713537637103,
          0.35857088599675024,
          0.3556654043658368,
          0.19791320474186608,
          0.3097806980216712,
          0.19940274562312227,
          0.1931873469710005,
          0.15089350583294886,
          0.17314984113915433,
          0.2828466090564352,
          0.19411457123685585,
          0.2583431253263984,
          0.28179776571691856,
          0.11385446934003099,
          0.18522468482564144
         ]
        }
       ],
       "layout": {
        "coloraxis": {
         "colorbar": {
          "title": {
           "text": "cluster"
          }
         },
         "colorscale": [
          [
           0,
           "#0d0887"
          ],
          [
           0.1111111111111111,
           "#46039f"
          ],
          [
           0.2222222222222222,
           "#7201a8"
          ],
          [
           0.3333333333333333,
           "#9c179e"
          ],
          [
           0.4444444444444444,
           "#bd3786"
          ],
          [
           0.5555555555555556,
           "#d8576b"
          ],
          [
           0.6666666666666666,
           "#ed7953"
          ],
          [
           0.7777777777777778,
           "#fb9f3a"
          ],
          [
           0.8888888888888888,
           "#fdca26"
          ],
          [
           1,
           "#f0f921"
          ]
         ]
        },
        "legend": {
         "tracegroupgap": 0
        },
        "scene": {
         "domain": {
          "x": [
           0,
           1
          ],
          "y": [
           0,
           1
          ]
         },
         "xaxis": {
          "title": {
           "text": "Possession"
          }
         },
         "yaxis": {
          "title": {
           "text": "SPPLBP"
          }
         },
         "zaxis": {
          "title": {
           "text": "npxGD"
          }
         }
        },
        "template": {
         "data": {
          "bar": [
           {
            "error_x": {
             "color": "#2a3f5f"
            },
            "error_y": {
             "color": "#2a3f5f"
            },
            "marker": {
             "line": {
              "color": "#E5ECF6",
              "width": 0.5
             },
             "pattern": {
              "fillmode": "overlay",
              "size": 10,
              "solidity": 0.2
             }
            },
            "type": "bar"
           }
          ],
          "barpolar": [
           {
            "marker": {
             "line": {
              "color": "#E5ECF6",
              "width": 0.5
             },
             "pattern": {
              "fillmode": "overlay",
              "size": 10,
              "solidity": 0.2
             }
            },
            "type": "barpolar"
           }
          ],
          "carpet": [
           {
            "aaxis": {
             "endlinecolor": "#2a3f5f",
             "gridcolor": "white",
             "linecolor": "white",
             "minorgridcolor": "white",
             "startlinecolor": "#2a3f5f"
            },
            "baxis": {
             "endlinecolor": "#2a3f5f",
             "gridcolor": "white",
             "linecolor": "white",
             "minorgridcolor": "white",
             "startlinecolor": "#2a3f5f"
            },
            "type": "carpet"
           }
          ],
          "choropleth": [
           {
            "colorbar": {
             "outlinewidth": 0,
             "ticks": ""
            },
            "type": "choropleth"
           }
          ],
          "contour": [
           {
            "colorbar": {
             "outlinewidth": 0,
             "ticks": ""
            },
            "colorscale": [
             [
              0,
              "#0d0887"
             ],
             [
              0.1111111111111111,
              "#46039f"
             ],
             [
              0.2222222222222222,
              "#7201a8"
             ],
             [
              0.3333333333333333,
              "#9c179e"
             ],
             [
              0.4444444444444444,
              "#bd3786"
             ],
             [
              0.5555555555555556,
              "#d8576b"
             ],
             [
              0.6666666666666666,
              "#ed7953"
             ],
             [
              0.7777777777777778,
              "#fb9f3a"
             ],
             [
              0.8888888888888888,
              "#fdca26"
             ],
             [
              1,
              "#f0f921"
             ]
            ],
            "type": "contour"
           }
          ],
          "contourcarpet": [
           {
            "colorbar": {
             "outlinewidth": 0,
             "ticks": ""
            },
            "type": "contourcarpet"
           }
          ],
          "heatmap": [
           {
            "colorbar": {
             "outlinewidth": 0,
             "ticks": ""
            },
            "colorscale": [
             [
              0,
              "#0d0887"
             ],
             [
              0.1111111111111111,
              "#46039f"
             ],
             [
              0.2222222222222222,
              "#7201a8"
             ],
             [
              0.3333333333333333,
              "#9c179e"
             ],
             [
              0.4444444444444444,
              "#bd3786"
             ],
             [
              0.5555555555555556,
              "#d8576b"
             ],
             [
              0.6666666666666666,
              "#ed7953"
             ],
             [
              0.7777777777777778,
              "#fb9f3a"
             ],
             [
              0.8888888888888888,
              "#fdca26"
             ],
             [
              1,
              "#f0f921"
             ]
            ],
            "type": "heatmap"
           }
          ],
          "heatmapgl": [
           {
            "colorbar": {
             "outlinewidth": 0,
             "ticks": ""
            },
            "colorscale": [
             [
              0,
              "#0d0887"
             ],
             [
              0.1111111111111111,
              "#46039f"
             ],
             [
              0.2222222222222222,
              "#7201a8"
             ],
             [
              0.3333333333333333,
              "#9c179e"
             ],
             [
              0.4444444444444444,
              "#bd3786"
             ],
             [
              0.5555555555555556,
              "#d8576b"
             ],
             [
              0.6666666666666666,
              "#ed7953"
             ],
             [
              0.7777777777777778,
              "#fb9f3a"
             ],
             [
              0.8888888888888888,
              "#fdca26"
             ],
             [
              1,
              "#f0f921"
             ]
            ],
            "type": "heatmapgl"
           }
          ],
          "histogram": [
           {
            "marker": {
             "pattern": {
              "fillmode": "overlay",
              "size": 10,
              "solidity": 0.2
             }
            },
            "type": "histogram"
           }
          ],
          "histogram2d": [
           {
            "colorbar": {
             "outlinewidth": 0,
             "ticks": ""
            },
            "colorscale": [
             [
              0,
              "#0d0887"
             ],
             [
              0.1111111111111111,
              "#46039f"
             ],
             [
              0.2222222222222222,
              "#7201a8"
             ],
             [
              0.3333333333333333,
              "#9c179e"
             ],
             [
              0.4444444444444444,
              "#bd3786"
             ],
             [
              0.5555555555555556,
              "#d8576b"
             ],
             [
              0.6666666666666666,
              "#ed7953"
             ],
             [
              0.7777777777777778,
              "#fb9f3a"
             ],
             [
              0.8888888888888888,
              "#fdca26"
             ],
             [
              1,
              "#f0f921"
             ]
            ],
            "type": "histogram2d"
           }
          ],
          "histogram2dcontour": [
           {
            "colorbar": {
             "outlinewidth": 0,
             "ticks": ""
            },
            "colorscale": [
             [
              0,
              "#0d0887"
             ],
             [
              0.1111111111111111,
              "#46039f"
             ],
             [
              0.2222222222222222,
              "#7201a8"
             ],
             [
              0.3333333333333333,
              "#9c179e"
             ],
             [
              0.4444444444444444,
              "#bd3786"
             ],
             [
              0.5555555555555556,
              "#d8576b"
             ],
             [
              0.6666666666666666,
              "#ed7953"
             ],
             [
              0.7777777777777778,
              "#fb9f3a"
             ],
             [
              0.8888888888888888,
              "#fdca26"
             ],
             [
              1,
              "#f0f921"
             ]
            ],
            "type": "histogram2dcontour"
           }
          ],
          "mesh3d": [
           {
            "colorbar": {
             "outlinewidth": 0,
             "ticks": ""
            },
            "type": "mesh3d"
           }
          ],
          "parcoords": [
           {
            "line": {
             "colorbar": {
              "outlinewidth": 0,
              "ticks": ""
             }
            },
            "type": "parcoords"
           }
          ],
          "pie": [
           {
            "automargin": true,
            "type": "pie"
           }
          ],
          "scatter": [
           {
            "fillpattern": {
             "fillmode": "overlay",
             "size": 10,
             "solidity": 0.2
            },
            "type": "scatter"
           }
          ],
          "scatter3d": [
           {
            "line": {
             "colorbar": {
              "outlinewidth": 0,
              "ticks": ""
             }
            },
            "marker": {
             "colorbar": {
              "outlinewidth": 0,
              "ticks": ""
             }
            },
            "type": "scatter3d"
           }
          ],
          "scattercarpet": [
           {
            "marker": {
             "colorbar": {
              "outlinewidth": 0,
              "ticks": ""
             }
            },
            "type": "scattercarpet"
           }
          ],
          "scattergeo": [
           {
            "marker": {
             "colorbar": {
              "outlinewidth": 0,
              "ticks": ""
             }
            },
            "type": "scattergeo"
           }
          ],
          "scattergl": [
           {
            "marker": {
             "colorbar": {
              "outlinewidth": 0,
              "ticks": ""
             }
            },
            "type": "scattergl"
           }
          ],
          "scattermapbox": [
           {
            "marker": {
             "colorbar": {
              "outlinewidth": 0,
              "ticks": ""
             }
            },
            "type": "scattermapbox"
           }
          ],
          "scatterpolar": [
           {
            "marker": {
             "colorbar": {
              "outlinewidth": 0,
              "ticks": ""
             }
            },
            "type": "scatterpolar"
           }
          ],
          "scatterpolargl": [
           {
            "marker": {
             "colorbar": {
              "outlinewidth": 0,
              "ticks": ""
             }
            },
            "type": "scatterpolargl"
           }
          ],
          "scatterternary": [
           {
            "marker": {
             "colorbar": {
              "outlinewidth": 0,
              "ticks": ""
             }
            },
            "type": "scatterternary"
           }
          ],
          "surface": [
           {
            "colorbar": {
             "outlinewidth": 0,
             "ticks": ""
            },
            "colorscale": [
             [
              0,
              "#0d0887"
             ],
             [
              0.1111111111111111,
              "#46039f"
             ],
             [
              0.2222222222222222,
              "#7201a8"
             ],
             [
              0.3333333333333333,
              "#9c179e"
             ],
             [
              0.4444444444444444,
              "#bd3786"
             ],
             [
              0.5555555555555556,
              "#d8576b"
             ],
             [
              0.6666666666666666,
              "#ed7953"
             ],
             [
              0.7777777777777778,
              "#fb9f3a"
             ],
             [
              0.8888888888888888,
              "#fdca26"
             ],
             [
              1,
              "#f0f921"
             ]
            ],
            "type": "surface"
           }
          ],
          "table": [
           {
            "cells": {
             "fill": {
              "color": "#EBF0F8"
             },
             "line": {
              "color": "white"
             }
            },
            "header": {
             "fill": {
              "color": "#C8D4E3"
             },
             "line": {
              "color": "white"
             }
            },
            "type": "table"
           }
          ]
         },
         "layout": {
          "annotationdefaults": {
           "arrowcolor": "#2a3f5f",
           "arrowhead": 0,
           "arrowwidth": 1
          },
          "autotypenumbers": "strict",
          "coloraxis": {
           "colorbar": {
            "outlinewidth": 0,
            "ticks": ""
           }
          },
          "colorscale": {
           "diverging": [
            [
             0,
             "#8e0152"
            ],
            [
             0.1,
             "#c51b7d"
            ],
            [
             0.2,
             "#de77ae"
            ],
            [
             0.3,
             "#f1b6da"
            ],
            [
             0.4,
             "#fde0ef"
            ],
            [
             0.5,
             "#f7f7f7"
            ],
            [
             0.6,
             "#e6f5d0"
            ],
            [
             0.7,
             "#b8e186"
            ],
            [
             0.8,
             "#7fbc41"
            ],
            [
             0.9,
             "#4d9221"
            ],
            [
             1,
             "#276419"
            ]
           ],
           "sequential": [
            [
             0,
             "#0d0887"
            ],
            [
             0.1111111111111111,
             "#46039f"
            ],
            [
             0.2222222222222222,
             "#7201a8"
            ],
            [
             0.3333333333333333,
             "#9c179e"
            ],
            [
             0.4444444444444444,
             "#bd3786"
            ],
            [
             0.5555555555555556,
             "#d8576b"
            ],
            [
             0.6666666666666666,
             "#ed7953"
            ],
            [
             0.7777777777777778,
             "#fb9f3a"
            ],
            [
             0.8888888888888888,
             "#fdca26"
            ],
            [
             1,
             "#f0f921"
            ]
           ],
           "sequentialminus": [
            [
             0,
             "#0d0887"
            ],
            [
             0.1111111111111111,
             "#46039f"
            ],
            [
             0.2222222222222222,
             "#7201a8"
            ],
            [
             0.3333333333333333,
             "#9c179e"
            ],
            [
             0.4444444444444444,
             "#bd3786"
            ],
            [
             0.5555555555555556,
             "#d8576b"
            ],
            [
             0.6666666666666666,
             "#ed7953"
            ],
            [
             0.7777777777777778,
             "#fb9f3a"
            ],
            [
             0.8888888888888888,
             "#fdca26"
            ],
            [
             1,
             "#f0f921"
            ]
           ]
          },
          "colorway": [
           "#636efa",
           "#EF553B",
           "#00cc96",
           "#ab63fa",
           "#FFA15A",
           "#19d3f3",
           "#FF6692",
           "#B6E880",
           "#FF97FF",
           "#FECB52"
          ],
          "font": {
           "color": "#2a3f5f"
          },
          "geo": {
           "bgcolor": "white",
           "lakecolor": "white",
           "landcolor": "#E5ECF6",
           "showlakes": true,
           "showland": true,
           "subunitcolor": "white"
          },
          "hoverlabel": {
           "align": "left"
          },
          "hovermode": "closest",
          "mapbox": {
           "style": "light"
          },
          "paper_bgcolor": "white",
          "plot_bgcolor": "#E5ECF6",
          "polar": {
           "angularaxis": {
            "gridcolor": "white",
            "linecolor": "white",
            "ticks": ""
           },
           "bgcolor": "#E5ECF6",
           "radialaxis": {
            "gridcolor": "white",
            "linecolor": "white",
            "ticks": ""
           }
          },
          "scene": {
           "xaxis": {
            "backgroundcolor": "#E5ECF6",
            "gridcolor": "white",
            "gridwidth": 2,
            "linecolor": "white",
            "showbackground": true,
            "ticks": "",
            "zerolinecolor": "white"
           },
           "yaxis": {
            "backgroundcolor": "#E5ECF6",
            "gridcolor": "white",
            "gridwidth": 2,
            "linecolor": "white",
            "showbackground": true,
            "ticks": "",
            "zerolinecolor": "white"
           },
           "zaxis": {
            "backgroundcolor": "#E5ECF6",
            "gridcolor": "white",
            "gridwidth": 2,
            "linecolor": "white",
            "showbackground": true,
            "ticks": "",
            "zerolinecolor": "white"
           }
          },
          "shapedefaults": {
           "line": {
            "color": "#2a3f5f"
           }
          },
          "ternary": {
           "aaxis": {
            "gridcolor": "white",
            "linecolor": "white",
            "ticks": ""
           },
           "baxis": {
            "gridcolor": "white",
            "linecolor": "white",
            "ticks": ""
           },
           "bgcolor": "#E5ECF6",
           "caxis": {
            "gridcolor": "white",
            "linecolor": "white",
            "ticks": ""
           }
          },
          "title": {
           "x": 0.05
          },
          "xaxis": {
           "automargin": true,
           "gridcolor": "white",
           "linecolor": "white",
           "ticks": "",
           "title": {
            "standoff": 15
           },
           "zerolinecolor": "white",
           "zerolinewidth": 2
          },
          "yaxis": {
           "automargin": true,
           "gridcolor": "white",
           "linecolor": "white",
           "ticks": "",
           "title": {
            "standoff": 15
           },
           "zerolinecolor": "white",
           "zerolinewidth": 2
          }
         }
        },
        "title": {
         "text": "Clustering EPL, La Liga & Serie A Teams (kmean method, n = 6)"
        }
       }
      }
     },
     "metadata": {},
     "output_type": "display_data"
    }
   ],
   "source": [
    "n = 6\n",
    "kmeans_v2 = KMeans(n_clusters = n, max_iter = 3000, random_state = RS)\n",
    "kmeans_v2.fit(df_prepared[[\"Possession\",\"SPPLBP\",\"npxGD\"]])\n",
    "df_prepared[\"cluster\"] = kmeans_v2.labels_ + 1\n",
    "title_kmeans_v2 = f'Clustering EPL, La Liga & Serie A Teams (kmean method, n = {n})'\n",
    "kmeans_v2_fig = px.scatter_3d(df_prepared, x = 'Possession', y = 'SPPLBP', z = 'npxGD', hover_name = 'Team', color = 'cluster', title = title_kmeans_v2 )\n",
    "kmeans_v2_fig.show()"
   ]
  },
  {
   "cell_type": "code",
   "execution_count": 139,
   "metadata": {},
   "outputs": [
    {
     "data": {
      "text/html": [
       "<div>\n",
       "<style scoped>\n",
       "    .dataframe tbody tr th:only-of-type {\n",
       "        vertical-align: middle;\n",
       "    }\n",
       "\n",
       "    .dataframe tbody tr th {\n",
       "        vertical-align: top;\n",
       "    }\n",
       "\n",
       "    .dataframe thead th {\n",
       "        text-align: right;\n",
       "    }\n",
       "</style>\n",
       "<table border=\"1\" class=\"dataframe\">\n",
       "  <thead>\n",
       "    <tr style=\"text-align: right;\">\n",
       "      <th></th>\n",
       "      <th>Rank</th>\n",
       "      <th>League</th>\n",
       "      <th>Team</th>\n",
       "      <th>Possession</th>\n",
       "      <th>SPPLBP</th>\n",
       "      <th>npxGD</th>\n",
       "      <th>cluster</th>\n",
       "    </tr>\n",
       "  </thead>\n",
       "  <tbody>\n",
       "    <tr>\n",
       "      <th>0</th>\n",
       "      <td>1</td>\n",
       "      <td>EPL</td>\n",
       "      <td>Liverpool</td>\n",
       "      <td>0.924686</td>\n",
       "      <td>0.510146</td>\n",
       "      <td>0.705905</td>\n",
       "      <td>4</td>\n",
       "    </tr>\n",
       "    <tr>\n",
       "      <th>1</th>\n",
       "      <td>2</td>\n",
       "      <td>EPL</td>\n",
       "      <td>Manchester City</td>\n",
       "      <td>0.987448</td>\n",
       "      <td>0.824368</td>\n",
       "      <td>1.000000</td>\n",
       "      <td>1</td>\n",
       "    </tr>\n",
       "    <tr>\n",
       "      <th>2</th>\n",
       "      <td>3</td>\n",
       "      <td>EPL</td>\n",
       "      <td>Manchester United</td>\n",
       "      <td>0.820084</td>\n",
       "      <td>0.619527</td>\n",
       "      <td>0.562225</td>\n",
       "      <td>4</td>\n",
       "    </tr>\n",
       "    <tr>\n",
       "      <th>3</th>\n",
       "      <td>4</td>\n",
       "      <td>EPL</td>\n",
       "      <td>Chelsea</td>\n",
       "      <td>0.889121</td>\n",
       "      <td>0.616918</td>\n",
       "      <td>0.691985</td>\n",
       "      <td>4</td>\n",
       "    </tr>\n",
       "    <tr>\n",
       "      <th>4</th>\n",
       "      <td>5</td>\n",
       "      <td>EPL</td>\n",
       "      <td>Leicester</td>\n",
       "      <td>0.830544</td>\n",
       "      <td>0.510944</td>\n",
       "      <td>0.513329</td>\n",
       "      <td>4</td>\n",
       "    </tr>\n",
       "    <tr>\n",
       "      <th>5</th>\n",
       "      <td>6</td>\n",
       "      <td>EPL</td>\n",
       "      <td>Tottenham</td>\n",
       "      <td>0.755230</td>\n",
       "      <td>0.456669</td>\n",
       "      <td>0.307601</td>\n",
       "      <td>6</td>\n",
       "    </tr>\n",
       "    <tr>\n",
       "      <th>6</th>\n",
       "      <td>7</td>\n",
       "      <td>EPL</td>\n",
       "      <td>Wolverhampton</td>\n",
       "      <td>0.696653</td>\n",
       "      <td>0.242642</td>\n",
       "      <td>0.522594</td>\n",
       "      <td>2</td>\n",
       "    </tr>\n",
       "    <tr>\n",
       "      <th>7</th>\n",
       "      <td>8</td>\n",
       "      <td>EPL</td>\n",
       "      <td>Arsenal</td>\n",
       "      <td>0.784519</td>\n",
       "      <td>0.491396</td>\n",
       "      <td>0.313176</td>\n",
       "      <td>6</td>\n",
       "    </tr>\n",
       "    <tr>\n",
       "      <th>8</th>\n",
       "      <td>9</td>\n",
       "      <td>EPL</td>\n",
       "      <td>Sheffield United</td>\n",
       "      <td>0.606695</td>\n",
       "      <td>0.139106</td>\n",
       "      <td>0.307729</td>\n",
       "      <td>2</td>\n",
       "    </tr>\n",
       "    <tr>\n",
       "      <th>9</th>\n",
       "      <td>10</td>\n",
       "      <td>EPL</td>\n",
       "      <td>Burnley</td>\n",
       "      <td>0.596234</td>\n",
       "      <td>0.081814</td>\n",
       "      <td>0.288077</td>\n",
       "      <td>2</td>\n",
       "    </tr>\n",
       "    <tr>\n",
       "      <th>10</th>\n",
       "      <td>11</td>\n",
       "      <td>EPL</td>\n",
       "      <td>Southampton</td>\n",
       "      <td>0.707113</td>\n",
       "      <td>0.213216</td>\n",
       "      <td>0.329497</td>\n",
       "      <td>2</td>\n",
       "    </tr>\n",
       "    <tr>\n",
       "      <th>11</th>\n",
       "      <td>12</td>\n",
       "      <td>EPL</td>\n",
       "      <td>Everton</td>\n",
       "      <td>0.702929</td>\n",
       "      <td>0.254796</td>\n",
       "      <td>0.416845</td>\n",
       "      <td>2</td>\n",
       "    </tr>\n",
       "    <tr>\n",
       "      <th>12</th>\n",
       "      <td>13</td>\n",
       "      <td>EPL</td>\n",
       "      <td>Newcastle</td>\n",
       "      <td>0.552301</td>\n",
       "      <td>0.153061</td>\n",
       "      <td>0.007152</td>\n",
       "      <td>3</td>\n",
       "    </tr>\n",
       "    <tr>\n",
       "      <th>13</th>\n",
       "      <td>14</td>\n",
       "      <td>EPL</td>\n",
       "      <td>Crystal Palace</td>\n",
       "      <td>0.648536</td>\n",
       "      <td>0.261475</td>\n",
       "      <td>0.066657</td>\n",
       "      <td>3</td>\n",
       "    </tr>\n",
       "    <tr>\n",
       "      <th>14</th>\n",
       "      <td>15</td>\n",
       "      <td>EPL</td>\n",
       "      <td>Brighton</td>\n",
       "      <td>0.759414</td>\n",
       "      <td>0.391300</td>\n",
       "      <td>0.195250</td>\n",
       "      <td>6</td>\n",
       "    </tr>\n",
       "    <tr>\n",
       "      <th>15</th>\n",
       "      <td>16</td>\n",
       "      <td>EPL</td>\n",
       "      <td>West Ham</td>\n",
       "      <td>0.627615</td>\n",
       "      <td>0.211079</td>\n",
       "      <td>0.142130</td>\n",
       "      <td>3</td>\n",
       "    </tr>\n",
       "    <tr>\n",
       "      <th>16</th>\n",
       "      <td>17</td>\n",
       "      <td>EPL</td>\n",
       "      <td>Aston Villa</td>\n",
       "      <td>0.633891</td>\n",
       "      <td>0.183721</td>\n",
       "      <td>0.069287</td>\n",
       "      <td>3</td>\n",
       "    </tr>\n",
       "    <tr>\n",
       "      <th>17</th>\n",
       "      <td>18</td>\n",
       "      <td>EPL</td>\n",
       "      <td>Bournemouth</td>\n",
       "      <td>0.631799</td>\n",
       "      <td>0.284236</td>\n",
       "      <td>0.228221</td>\n",
       "      <td>3</td>\n",
       "    </tr>\n",
       "    <tr>\n",
       "      <th>18</th>\n",
       "      <td>19</td>\n",
       "      <td>EPL</td>\n",
       "      <td>Watford</td>\n",
       "      <td>0.604603</td>\n",
       "      <td>0.190689</td>\n",
       "      <td>0.149201</td>\n",
       "      <td>3</td>\n",
       "    </tr>\n",
       "    <tr>\n",
       "      <th>19</th>\n",
       "      <td>20</td>\n",
       "      <td>EPL</td>\n",
       "      <td>Norwich</td>\n",
       "      <td>0.719665</td>\n",
       "      <td>0.357074</td>\n",
       "      <td>0.000000</td>\n",
       "      <td>3</td>\n",
       "    </tr>\n",
       "    <tr>\n",
       "      <th>20</th>\n",
       "      <td>1</td>\n",
       "      <td>La_liga</td>\n",
       "      <td>Real Madrid</td>\n",
       "      <td>0.872385</td>\n",
       "      <td>0.454213</td>\n",
       "      <td>0.703058</td>\n",
       "      <td>4</td>\n",
       "    </tr>\n",
       "    <tr>\n",
       "      <th>21</th>\n",
       "      <td>2</td>\n",
       "      <td>La_liga</td>\n",
       "      <td>Barcelona</td>\n",
       "      <td>1.000000</td>\n",
       "      <td>1.000000</td>\n",
       "      <td>0.732274</td>\n",
       "      <td>1</td>\n",
       "    </tr>\n",
       "    <tr>\n",
       "      <th>22</th>\n",
       "      <td>3</td>\n",
       "      <td>La_liga</td>\n",
       "      <td>Atletico Madrid</td>\n",
       "      <td>0.700837</td>\n",
       "      <td>0.306478</td>\n",
       "      <td>0.523779</td>\n",
       "      <td>2</td>\n",
       "    </tr>\n",
       "    <tr>\n",
       "      <th>23</th>\n",
       "      <td>4</td>\n",
       "      <td>La_liga</td>\n",
       "      <td>Sevilla</td>\n",
       "      <td>0.847280</td>\n",
       "      <td>0.327822</td>\n",
       "      <td>0.612006</td>\n",
       "      <td>4</td>\n",
       "    </tr>\n",
       "    <tr>\n",
       "      <th>24</th>\n",
       "      <td>5</td>\n",
       "      <td>La_liga</td>\n",
       "      <td>Villarreal</td>\n",
       "      <td>0.297071</td>\n",
       "      <td>0.328593</td>\n",
       "      <td>0.515641</td>\n",
       "      <td>5</td>\n",
       "    </tr>\n",
       "    <tr>\n",
       "      <th>25</th>\n",
       "      <td>6</td>\n",
       "      <td>La_liga</td>\n",
       "      <td>Real Sociedad</td>\n",
       "      <td>0.820084</td>\n",
       "      <td>0.448687</td>\n",
       "      <td>0.475357</td>\n",
       "      <td>4</td>\n",
       "    </tr>\n",
       "    <tr>\n",
       "      <th>26</th>\n",
       "      <td>7</td>\n",
       "      <td>La_liga</td>\n",
       "      <td>Granada</td>\n",
       "      <td>0.623431</td>\n",
       "      <td>0.095451</td>\n",
       "      <td>0.358571</td>\n",
       "      <td>2</td>\n",
       "    </tr>\n",
       "    <tr>\n",
       "      <th>27</th>\n",
       "      <td>8</td>\n",
       "      <td>La_liga</td>\n",
       "      <td>Getafe</td>\n",
       "      <td>0.635983</td>\n",
       "      <td>0.000000</td>\n",
       "      <td>0.355665</td>\n",
       "      <td>2</td>\n",
       "    </tr>\n",
       "    <tr>\n",
       "      <th>28</th>\n",
       "      <td>9</td>\n",
       "      <td>La_liga</td>\n",
       "      <td>Valencia</td>\n",
       "      <td>0.711297</td>\n",
       "      <td>0.305697</td>\n",
       "      <td>0.197913</td>\n",
       "      <td>3</td>\n",
       "    </tr>\n",
       "    <tr>\n",
       "      <th>29</th>\n",
       "      <td>10</td>\n",
       "      <td>La_liga</td>\n",
       "      <td>Osasuna</td>\n",
       "      <td>0.677824</td>\n",
       "      <td>0.105901</td>\n",
       "      <td>0.309781</td>\n",
       "      <td>2</td>\n",
       "    </tr>\n",
       "    <tr>\n",
       "      <th>30</th>\n",
       "      <td>11</td>\n",
       "      <td>La_liga</td>\n",
       "      <td>Athletic Bilbao</td>\n",
       "      <td>0.702929</td>\n",
       "      <td>0.151572</td>\n",
       "      <td>0.199403</td>\n",
       "      <td>3</td>\n",
       "    </tr>\n",
       "    <tr>\n",
       "      <th>31</th>\n",
       "      <td>12</td>\n",
       "      <td>La_liga</td>\n",
       "      <td>Levante</td>\n",
       "      <td>0.698745</td>\n",
       "      <td>0.212987</td>\n",
       "      <td>0.193187</td>\n",
       "      <td>3</td>\n",
       "    </tr>\n",
       "    <tr>\n",
       "      <th>32</th>\n",
       "      <td>13</td>\n",
       "      <td>La_liga</td>\n",
       "      <td>Real Valladolid</td>\n",
       "      <td>0.000000</td>\n",
       "      <td>0.123147</td>\n",
       "      <td>0.150894</td>\n",
       "      <td>5</td>\n",
       "    </tr>\n",
       "    <tr>\n",
       "      <th>33</th>\n",
       "      <td>14</td>\n",
       "      <td>La_liga</td>\n",
       "      <td>Eibar</td>\n",
       "      <td>0.654812</td>\n",
       "      <td>0.048892</td>\n",
       "      <td>0.173150</td>\n",
       "      <td>3</td>\n",
       "    </tr>\n",
       "    <tr>\n",
       "      <th>34</th>\n",
       "      <td>15</td>\n",
       "      <td>La_liga</td>\n",
       "      <td>Real Betis</td>\n",
       "      <td>0.843096</td>\n",
       "      <td>0.386836</td>\n",
       "      <td>0.282847</td>\n",
       "      <td>6</td>\n",
       "    </tr>\n",
       "    <tr>\n",
       "      <th>35</th>\n",
       "      <td>16</td>\n",
       "      <td>La_liga</td>\n",
       "      <td>Deportivo Alaves</td>\n",
       "      <td>0.581590</td>\n",
       "      <td>0.105741</td>\n",
       "      <td>0.194115</td>\n",
       "      <td>3</td>\n",
       "    </tr>\n",
       "    <tr>\n",
       "      <th>36</th>\n",
       "      <td>17</td>\n",
       "      <td>La_liga</td>\n",
       "      <td>Celta Vigo</td>\n",
       "      <td>0.751046</td>\n",
       "      <td>0.388026</td>\n",
       "      <td>0.258343</td>\n",
       "      <td>6</td>\n",
       "    </tr>\n",
       "    <tr>\n",
       "      <th>37</th>\n",
       "      <td>18</td>\n",
       "      <td>La_liga</td>\n",
       "      <td>Leganes</td>\n",
       "      <td>0.619247</td>\n",
       "      <td>0.121486</td>\n",
       "      <td>0.281798</td>\n",
       "      <td>2</td>\n",
       "    </tr>\n",
       "    <tr>\n",
       "      <th>38</th>\n",
       "      <td>19</td>\n",
       "      <td>La_liga</td>\n",
       "      <td>Mallorca</td>\n",
       "      <td>0.646444</td>\n",
       "      <td>0.272913</td>\n",
       "      <td>0.113854</td>\n",
       "      <td>3</td>\n",
       "    </tr>\n",
       "    <tr>\n",
       "      <th>39</th>\n",
       "      <td>20</td>\n",
       "      <td>La_liga</td>\n",
       "      <td>Espanyol</td>\n",
       "      <td>0.671548</td>\n",
       "      <td>0.157242</td>\n",
       "      <td>0.185225</td>\n",
       "      <td>3</td>\n",
       "    </tr>\n",
       "  </tbody>\n",
       "</table>\n",
       "</div>"
      ],
      "text/plain": [
       "    Rank   League               Team  Possession    SPPLBP     npxGD  cluster\n",
       "0      1      EPL          Liverpool    0.924686  0.510146  0.705905        4\n",
       "1      2      EPL    Manchester City    0.987448  0.824368  1.000000        1\n",
       "2      3      EPL  Manchester United    0.820084  0.619527  0.562225        4\n",
       "3      4      EPL            Chelsea    0.889121  0.616918  0.691985        4\n",
       "4      5      EPL          Leicester    0.830544  0.510944  0.513329        4\n",
       "5      6      EPL          Tottenham    0.755230  0.456669  0.307601        6\n",
       "6      7      EPL      Wolverhampton    0.696653  0.242642  0.522594        2\n",
       "7      8      EPL            Arsenal    0.784519  0.491396  0.313176        6\n",
       "8      9      EPL   Sheffield United    0.606695  0.139106  0.307729        2\n",
       "9     10      EPL            Burnley    0.596234  0.081814  0.288077        2\n",
       "10    11      EPL        Southampton    0.707113  0.213216  0.329497        2\n",
       "11    12      EPL            Everton    0.702929  0.254796  0.416845        2\n",
       "12    13      EPL          Newcastle    0.552301  0.153061  0.007152        3\n",
       "13    14      EPL     Crystal Palace    0.648536  0.261475  0.066657        3\n",
       "14    15      EPL           Brighton    0.759414  0.391300  0.195250        6\n",
       "15    16      EPL           West Ham    0.627615  0.211079  0.142130        3\n",
       "16    17      EPL        Aston Villa    0.633891  0.183721  0.069287        3\n",
       "17    18      EPL        Bournemouth    0.631799  0.284236  0.228221        3\n",
       "18    19      EPL            Watford    0.604603  0.190689  0.149201        3\n",
       "19    20      EPL            Norwich    0.719665  0.357074  0.000000        3\n",
       "20     1  La_liga        Real Madrid    0.872385  0.454213  0.703058        4\n",
       "21     2  La_liga          Barcelona    1.000000  1.000000  0.732274        1\n",
       "22     3  La_liga    Atletico Madrid    0.700837  0.306478  0.523779        2\n",
       "23     4  La_liga            Sevilla    0.847280  0.327822  0.612006        4\n",
       "24     5  La_liga         Villarreal    0.297071  0.328593  0.515641        5\n",
       "25     6  La_liga      Real Sociedad    0.820084  0.448687  0.475357        4\n",
       "26     7  La_liga            Granada    0.623431  0.095451  0.358571        2\n",
       "27     8  La_liga             Getafe    0.635983  0.000000  0.355665        2\n",
       "28     9  La_liga           Valencia    0.711297  0.305697  0.197913        3\n",
       "29    10  La_liga            Osasuna    0.677824  0.105901  0.309781        2\n",
       "30    11  La_liga    Athletic Bilbao    0.702929  0.151572  0.199403        3\n",
       "31    12  La_liga            Levante    0.698745  0.212987  0.193187        3\n",
       "32    13  La_liga    Real Valladolid    0.000000  0.123147  0.150894        5\n",
       "33    14  La_liga              Eibar    0.654812  0.048892  0.173150        3\n",
       "34    15  La_liga         Real Betis    0.843096  0.386836  0.282847        6\n",
       "35    16  La_liga   Deportivo Alaves    0.581590  0.105741  0.194115        3\n",
       "36    17  La_liga         Celta Vigo    0.751046  0.388026  0.258343        6\n",
       "37    18  La_liga            Leganes    0.619247  0.121486  0.281798        2\n",
       "38    19  La_liga           Mallorca    0.646444  0.272913  0.113854        3\n",
       "39    20  La_liga           Espanyol    0.671548  0.157242  0.185225        3"
      ]
     },
     "execution_count": 139,
     "metadata": {},
     "output_type": "execute_result"
    }
   ],
   "source": [
    "df_prepared"
   ]
  },
  {
   "cell_type": "code",
   "execution_count": 161,
   "metadata": {},
   "outputs": [
    {
     "data": {
      "text/html": [
       "<div>\n",
       "<style scoped>\n",
       "    .dataframe tbody tr th:only-of-type {\n",
       "        vertical-align: middle;\n",
       "    }\n",
       "\n",
       "    .dataframe tbody tr th {\n",
       "        vertical-align: top;\n",
       "    }\n",
       "\n",
       "    .dataframe thead th {\n",
       "        text-align: right;\n",
       "    }\n",
       "</style>\n",
       "<table border=\"1\" class=\"dataframe\">\n",
       "  <thead>\n",
       "    <tr style=\"text-align: right;\">\n",
       "      <th></th>\n",
       "      <th>Rank</th>\n",
       "      <th>League</th>\n",
       "      <th>Team</th>\n",
       "      <th>Possession</th>\n",
       "      <th>SPPLBP</th>\n",
       "      <th>npxGD</th>\n",
       "      <th>cluster</th>\n",
       "    </tr>\n",
       "  </thead>\n",
       "  <tbody>\n",
       "    <tr>\n",
       "      <th>0</th>\n",
       "      <td>1</td>\n",
       "      <td>EPL</td>\n",
       "      <td>Liverpool</td>\n",
       "      <td>0.924686</td>\n",
       "      <td>0.510146</td>\n",
       "      <td>0.705905</td>\n",
       "      <td>4</td>\n",
       "    </tr>\n",
       "    <tr>\n",
       "      <th>1</th>\n",
       "      <td>2</td>\n",
       "      <td>EPL</td>\n",
       "      <td>Manchester City</td>\n",
       "      <td>0.987448</td>\n",
       "      <td>0.824368</td>\n",
       "      <td>1.000000</td>\n",
       "      <td>1</td>\n",
       "    </tr>\n",
       "    <tr>\n",
       "      <th>2</th>\n",
       "      <td>3</td>\n",
       "      <td>EPL</td>\n",
       "      <td>Manchester United</td>\n",
       "      <td>0.820084</td>\n",
       "      <td>0.619527</td>\n",
       "      <td>0.562225</td>\n",
       "      <td>4</td>\n",
       "    </tr>\n",
       "    <tr>\n",
       "      <th>3</th>\n",
       "      <td>4</td>\n",
       "      <td>EPL</td>\n",
       "      <td>Chelsea</td>\n",
       "      <td>0.889121</td>\n",
       "      <td>0.616918</td>\n",
       "      <td>0.691985</td>\n",
       "      <td>4</td>\n",
       "    </tr>\n",
       "    <tr>\n",
       "      <th>4</th>\n",
       "      <td>5</td>\n",
       "      <td>EPL</td>\n",
       "      <td>Leicester</td>\n",
       "      <td>0.830544</td>\n",
       "      <td>0.510944</td>\n",
       "      <td>0.513329</td>\n",
       "      <td>4</td>\n",
       "    </tr>\n",
       "    <tr>\n",
       "      <th>5</th>\n",
       "      <td>6</td>\n",
       "      <td>EPL</td>\n",
       "      <td>Tottenham</td>\n",
       "      <td>0.755230</td>\n",
       "      <td>0.456669</td>\n",
       "      <td>0.307601</td>\n",
       "      <td>6</td>\n",
       "    </tr>\n",
       "    <tr>\n",
       "      <th>6</th>\n",
       "      <td>7</td>\n",
       "      <td>EPL</td>\n",
       "      <td>Wolverhampton</td>\n",
       "      <td>0.696653</td>\n",
       "      <td>0.242642</td>\n",
       "      <td>0.522594</td>\n",
       "      <td>2</td>\n",
       "    </tr>\n",
       "    <tr>\n",
       "      <th>7</th>\n",
       "      <td>8</td>\n",
       "      <td>EPL</td>\n",
       "      <td>Arsenal</td>\n",
       "      <td>0.784519</td>\n",
       "      <td>0.491396</td>\n",
       "      <td>0.313176</td>\n",
       "      <td>6</td>\n",
       "    </tr>\n",
       "    <tr>\n",
       "      <th>8</th>\n",
       "      <td>9</td>\n",
       "      <td>EPL</td>\n",
       "      <td>Sheffield United</td>\n",
       "      <td>0.606695</td>\n",
       "      <td>0.139106</td>\n",
       "      <td>0.307729</td>\n",
       "      <td>2</td>\n",
       "    </tr>\n",
       "    <tr>\n",
       "      <th>9</th>\n",
       "      <td>10</td>\n",
       "      <td>EPL</td>\n",
       "      <td>Burnley</td>\n",
       "      <td>0.596234</td>\n",
       "      <td>0.081814</td>\n",
       "      <td>0.288077</td>\n",
       "      <td>2</td>\n",
       "    </tr>\n",
       "    <tr>\n",
       "      <th>10</th>\n",
       "      <td>11</td>\n",
       "      <td>EPL</td>\n",
       "      <td>Southampton</td>\n",
       "      <td>0.707113</td>\n",
       "      <td>0.213216</td>\n",
       "      <td>0.329497</td>\n",
       "      <td>2</td>\n",
       "    </tr>\n",
       "    <tr>\n",
       "      <th>11</th>\n",
       "      <td>12</td>\n",
       "      <td>EPL</td>\n",
       "      <td>Everton</td>\n",
       "      <td>0.702929</td>\n",
       "      <td>0.254796</td>\n",
       "      <td>0.416845</td>\n",
       "      <td>2</td>\n",
       "    </tr>\n",
       "    <tr>\n",
       "      <th>12</th>\n",
       "      <td>13</td>\n",
       "      <td>EPL</td>\n",
       "      <td>Newcastle</td>\n",
       "      <td>0.552301</td>\n",
       "      <td>0.153061</td>\n",
       "      <td>0.007152</td>\n",
       "      <td>3</td>\n",
       "    </tr>\n",
       "    <tr>\n",
       "      <th>13</th>\n",
       "      <td>14</td>\n",
       "      <td>EPL</td>\n",
       "      <td>Crystal Palace</td>\n",
       "      <td>0.648536</td>\n",
       "      <td>0.261475</td>\n",
       "      <td>0.066657</td>\n",
       "      <td>3</td>\n",
       "    </tr>\n",
       "    <tr>\n",
       "      <th>14</th>\n",
       "      <td>15</td>\n",
       "      <td>EPL</td>\n",
       "      <td>Brighton</td>\n",
       "      <td>0.759414</td>\n",
       "      <td>0.391300</td>\n",
       "      <td>0.195250</td>\n",
       "      <td>6</td>\n",
       "    </tr>\n",
       "    <tr>\n",
       "      <th>15</th>\n",
       "      <td>16</td>\n",
       "      <td>EPL</td>\n",
       "      <td>West Ham</td>\n",
       "      <td>0.627615</td>\n",
       "      <td>0.211079</td>\n",
       "      <td>0.142130</td>\n",
       "      <td>3</td>\n",
       "    </tr>\n",
       "    <tr>\n",
       "      <th>16</th>\n",
       "      <td>17</td>\n",
       "      <td>EPL</td>\n",
       "      <td>Aston Villa</td>\n",
       "      <td>0.633891</td>\n",
       "      <td>0.183721</td>\n",
       "      <td>0.069287</td>\n",
       "      <td>3</td>\n",
       "    </tr>\n",
       "    <tr>\n",
       "      <th>17</th>\n",
       "      <td>18</td>\n",
       "      <td>EPL</td>\n",
       "      <td>Bournemouth</td>\n",
       "      <td>0.631799</td>\n",
       "      <td>0.284236</td>\n",
       "      <td>0.228221</td>\n",
       "      <td>3</td>\n",
       "    </tr>\n",
       "    <tr>\n",
       "      <th>18</th>\n",
       "      <td>19</td>\n",
       "      <td>EPL</td>\n",
       "      <td>Watford</td>\n",
       "      <td>0.604603</td>\n",
       "      <td>0.190689</td>\n",
       "      <td>0.149201</td>\n",
       "      <td>3</td>\n",
       "    </tr>\n",
       "    <tr>\n",
       "      <th>19</th>\n",
       "      <td>20</td>\n",
       "      <td>EPL</td>\n",
       "      <td>Norwich</td>\n",
       "      <td>0.719665</td>\n",
       "      <td>0.357074</td>\n",
       "      <td>0.000000</td>\n",
       "      <td>3</td>\n",
       "    </tr>\n",
       "    <tr>\n",
       "      <th>20</th>\n",
       "      <td>1</td>\n",
       "      <td>La_liga</td>\n",
       "      <td>Real Madrid</td>\n",
       "      <td>0.872385</td>\n",
       "      <td>0.454213</td>\n",
       "      <td>0.703058</td>\n",
       "      <td>4</td>\n",
       "    </tr>\n",
       "    <tr>\n",
       "      <th>21</th>\n",
       "      <td>2</td>\n",
       "      <td>La_liga</td>\n",
       "      <td>Barcelona</td>\n",
       "      <td>1.000000</td>\n",
       "      <td>1.000000</td>\n",
       "      <td>0.732274</td>\n",
       "      <td>1</td>\n",
       "    </tr>\n",
       "    <tr>\n",
       "      <th>22</th>\n",
       "      <td>3</td>\n",
       "      <td>La_liga</td>\n",
       "      <td>Atletico Madrid</td>\n",
       "      <td>0.700837</td>\n",
       "      <td>0.306478</td>\n",
       "      <td>0.523779</td>\n",
       "      <td>2</td>\n",
       "    </tr>\n",
       "    <tr>\n",
       "      <th>23</th>\n",
       "      <td>4</td>\n",
       "      <td>La_liga</td>\n",
       "      <td>Sevilla</td>\n",
       "      <td>0.847280</td>\n",
       "      <td>0.327822</td>\n",
       "      <td>0.612006</td>\n",
       "      <td>4</td>\n",
       "    </tr>\n",
       "    <tr>\n",
       "      <th>24</th>\n",
       "      <td>5</td>\n",
       "      <td>La_liga</td>\n",
       "      <td>Villarreal</td>\n",
       "      <td>0.297071</td>\n",
       "      <td>0.328593</td>\n",
       "      <td>0.515641</td>\n",
       "      <td>5</td>\n",
       "    </tr>\n",
       "    <tr>\n",
       "      <th>25</th>\n",
       "      <td>6</td>\n",
       "      <td>La_liga</td>\n",
       "      <td>Real Sociedad</td>\n",
       "      <td>0.820084</td>\n",
       "      <td>0.448687</td>\n",
       "      <td>0.475357</td>\n",
       "      <td>4</td>\n",
       "    </tr>\n",
       "    <tr>\n",
       "      <th>26</th>\n",
       "      <td>7</td>\n",
       "      <td>La_liga</td>\n",
       "      <td>Granada</td>\n",
       "      <td>0.623431</td>\n",
       "      <td>0.095451</td>\n",
       "      <td>0.358571</td>\n",
       "      <td>2</td>\n",
       "    </tr>\n",
       "    <tr>\n",
       "      <th>27</th>\n",
       "      <td>8</td>\n",
       "      <td>La_liga</td>\n",
       "      <td>Getafe</td>\n",
       "      <td>0.635983</td>\n",
       "      <td>0.000000</td>\n",
       "      <td>0.355665</td>\n",
       "      <td>2</td>\n",
       "    </tr>\n",
       "    <tr>\n",
       "      <th>28</th>\n",
       "      <td>9</td>\n",
       "      <td>La_liga</td>\n",
       "      <td>Valencia</td>\n",
       "      <td>0.711297</td>\n",
       "      <td>0.305697</td>\n",
       "      <td>0.197913</td>\n",
       "      <td>3</td>\n",
       "    </tr>\n",
       "    <tr>\n",
       "      <th>29</th>\n",
       "      <td>10</td>\n",
       "      <td>La_liga</td>\n",
       "      <td>Osasuna</td>\n",
       "      <td>0.677824</td>\n",
       "      <td>0.105901</td>\n",
       "      <td>0.309781</td>\n",
       "      <td>2</td>\n",
       "    </tr>\n",
       "    <tr>\n",
       "      <th>30</th>\n",
       "      <td>11</td>\n",
       "      <td>La_liga</td>\n",
       "      <td>Athletic Bilbao</td>\n",
       "      <td>0.702929</td>\n",
       "      <td>0.151572</td>\n",
       "      <td>0.199403</td>\n",
       "      <td>3</td>\n",
       "    </tr>\n",
       "    <tr>\n",
       "      <th>31</th>\n",
       "      <td>12</td>\n",
       "      <td>La_liga</td>\n",
       "      <td>Levante</td>\n",
       "      <td>0.698745</td>\n",
       "      <td>0.212987</td>\n",
       "      <td>0.193187</td>\n",
       "      <td>3</td>\n",
       "    </tr>\n",
       "    <tr>\n",
       "      <th>32</th>\n",
       "      <td>13</td>\n",
       "      <td>La_liga</td>\n",
       "      <td>Real Valladolid</td>\n",
       "      <td>0.000000</td>\n",
       "      <td>0.123147</td>\n",
       "      <td>0.150894</td>\n",
       "      <td>5</td>\n",
       "    </tr>\n",
       "    <tr>\n",
       "      <th>33</th>\n",
       "      <td>14</td>\n",
       "      <td>La_liga</td>\n",
       "      <td>Eibar</td>\n",
       "      <td>0.654812</td>\n",
       "      <td>0.048892</td>\n",
       "      <td>0.173150</td>\n",
       "      <td>3</td>\n",
       "    </tr>\n",
       "    <tr>\n",
       "      <th>34</th>\n",
       "      <td>15</td>\n",
       "      <td>La_liga</td>\n",
       "      <td>Real Betis</td>\n",
       "      <td>0.843096</td>\n",
       "      <td>0.386836</td>\n",
       "      <td>0.282847</td>\n",
       "      <td>6</td>\n",
       "    </tr>\n",
       "    <tr>\n",
       "      <th>35</th>\n",
       "      <td>16</td>\n",
       "      <td>La_liga</td>\n",
       "      <td>Deportivo Alaves</td>\n",
       "      <td>0.581590</td>\n",
       "      <td>0.105741</td>\n",
       "      <td>0.194115</td>\n",
       "      <td>3</td>\n",
       "    </tr>\n",
       "    <tr>\n",
       "      <th>36</th>\n",
       "      <td>17</td>\n",
       "      <td>La_liga</td>\n",
       "      <td>Celta Vigo</td>\n",
       "      <td>0.751046</td>\n",
       "      <td>0.388026</td>\n",
       "      <td>0.258343</td>\n",
       "      <td>6</td>\n",
       "    </tr>\n",
       "    <tr>\n",
       "      <th>37</th>\n",
       "      <td>18</td>\n",
       "      <td>La_liga</td>\n",
       "      <td>Leganes</td>\n",
       "      <td>0.619247</td>\n",
       "      <td>0.121486</td>\n",
       "      <td>0.281798</td>\n",
       "      <td>2</td>\n",
       "    </tr>\n",
       "    <tr>\n",
       "      <th>38</th>\n",
       "      <td>19</td>\n",
       "      <td>La_liga</td>\n",
       "      <td>Mallorca</td>\n",
       "      <td>0.646444</td>\n",
       "      <td>0.272913</td>\n",
       "      <td>0.113854</td>\n",
       "      <td>3</td>\n",
       "    </tr>\n",
       "    <tr>\n",
       "      <th>39</th>\n",
       "      <td>20</td>\n",
       "      <td>La_liga</td>\n",
       "      <td>Espanyol</td>\n",
       "      <td>0.671548</td>\n",
       "      <td>0.157242</td>\n",
       "      <td>0.185225</td>\n",
       "      <td>3</td>\n",
       "    </tr>\n",
       "  </tbody>\n",
       "</table>\n",
       "</div>"
      ],
      "text/plain": [
       "    Rank   League               Team  Possession    SPPLBP     npxGD  cluster\n",
       "0      1      EPL          Liverpool    0.924686  0.510146  0.705905        4\n",
       "1      2      EPL    Manchester City    0.987448  0.824368  1.000000        1\n",
       "2      3      EPL  Manchester United    0.820084  0.619527  0.562225        4\n",
       "3      4      EPL            Chelsea    0.889121  0.616918  0.691985        4\n",
       "4      5      EPL          Leicester    0.830544  0.510944  0.513329        4\n",
       "5      6      EPL          Tottenham    0.755230  0.456669  0.307601        6\n",
       "6      7      EPL      Wolverhampton    0.696653  0.242642  0.522594        2\n",
       "7      8      EPL            Arsenal    0.784519  0.491396  0.313176        6\n",
       "8      9      EPL   Sheffield United    0.606695  0.139106  0.307729        2\n",
       "9     10      EPL            Burnley    0.596234  0.081814  0.288077        2\n",
       "10    11      EPL        Southampton    0.707113  0.213216  0.329497        2\n",
       "11    12      EPL            Everton    0.702929  0.254796  0.416845        2\n",
       "12    13      EPL          Newcastle    0.552301  0.153061  0.007152        3\n",
       "13    14      EPL     Crystal Palace    0.648536  0.261475  0.066657        3\n",
       "14    15      EPL           Brighton    0.759414  0.391300  0.195250        6\n",
       "15    16      EPL           West Ham    0.627615  0.211079  0.142130        3\n",
       "16    17      EPL        Aston Villa    0.633891  0.183721  0.069287        3\n",
       "17    18      EPL        Bournemouth    0.631799  0.284236  0.228221        3\n",
       "18    19      EPL            Watford    0.604603  0.190689  0.149201        3\n",
       "19    20      EPL            Norwich    0.719665  0.357074  0.000000        3\n",
       "20     1  La_liga        Real Madrid    0.872385  0.454213  0.703058        4\n",
       "21     2  La_liga          Barcelona    1.000000  1.000000  0.732274        1\n",
       "22     3  La_liga    Atletico Madrid    0.700837  0.306478  0.523779        2\n",
       "23     4  La_liga            Sevilla    0.847280  0.327822  0.612006        4\n",
       "24     5  La_liga         Villarreal    0.297071  0.328593  0.515641        5\n",
       "25     6  La_liga      Real Sociedad    0.820084  0.448687  0.475357        4\n",
       "26     7  La_liga            Granada    0.623431  0.095451  0.358571        2\n",
       "27     8  La_liga             Getafe    0.635983  0.000000  0.355665        2\n",
       "28     9  La_liga           Valencia    0.711297  0.305697  0.197913        3\n",
       "29    10  La_liga            Osasuna    0.677824  0.105901  0.309781        2\n",
       "30    11  La_liga    Athletic Bilbao    0.702929  0.151572  0.199403        3\n",
       "31    12  La_liga            Levante    0.698745  0.212987  0.193187        3\n",
       "32    13  La_liga    Real Valladolid    0.000000  0.123147  0.150894        5\n",
       "33    14  La_liga              Eibar    0.654812  0.048892  0.173150        3\n",
       "34    15  La_liga         Real Betis    0.843096  0.386836  0.282847        6\n",
       "35    16  La_liga   Deportivo Alaves    0.581590  0.105741  0.194115        3\n",
       "36    17  La_liga         Celta Vigo    0.751046  0.388026  0.258343        6\n",
       "37    18  La_liga            Leganes    0.619247  0.121486  0.281798        2\n",
       "38    19  La_liga           Mallorca    0.646444  0.272913  0.113854        3\n",
       "39    20  La_liga           Espanyol    0.671548  0.157242  0.185225        3"
      ]
     },
     "execution_count": 161,
     "metadata": {},
     "output_type": "execute_result"
    }
   ],
   "source": [
    "df_prepared"
   ]
  }
 ],
 "metadata": {
  "kernelspec": {
   "display_name": "Python 3",
   "language": "python",
   "name": "python3"
  },
  "language_info": {
   "codemirror_mode": {
    "name": "ipython",
    "version": 3
   },
   "file_extension": ".py",
   "mimetype": "text/x-python",
   "name": "python",
   "nbconvert_exporter": "python",
   "pygments_lexer": "ipython3",
   "version": "3.10.6"
  },
  "orig_nbformat": 4
 },
 "nbformat": 4,
 "nbformat_minor": 2
}

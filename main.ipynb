{
 "cells": [
  {
   "cell_type": "code",
   "execution_count": 66,
   "metadata": {},
   "outputs": [],
   "source": [
    "import scipy\n",
    "import numpy as np\n",
    "import pandas as pd\n",
    "import pingouin as pg\n",
    "import plotly_express as px\n",
    "import matplotlib.pyplot as plt\n",
    "\n",
    "df = pd.read_csv(\"football.csv\")\n",
    "\n",
    "\n",
    "\n",
    "df[\"Start Season\"] = df[\"Season\"].apply(lambda x : int(x[:4]))\n",
    "df[\"End Season\"] = df[\"Season\"].apply(lambda x : int(x[5:]))\n",
    "df[\"League\"].replace('La Liga', 'La_liga',inplace = True)\n",
    "df[\"League\"].replace('Premier League', 'EPL',inplace = True)\n",
    "\n",
    "year = 2019\n",
    "\n",
    "df_understat = pd.read_csv(\"understat.com.csv\")\n",
    "df_understat.rename(columns = {\n",
    "    \"Unnamed: 0\" : \"league\",\n",
    "    \"Unnamed: 1\" : \"season\",\n",
    "    \"position\" : \"rank\"\n",
    "    }, inplace = True)\n",
    "pl_u = df_understat[(df_understat[\"league\"] == \"EPL\") & (df_understat[\"season\"] == year)][[\"rank\",\"team\", \"npxGD\"]].sort_values([\"rank\"]).reset_index(drop = True)\n",
    "ll_u = df_understat[(df_understat[\"league\"] == \"La_liga\") & (df_understat[\"season\"] == year)][[\"rank\",\"team\", \"npxGD\"]].sort_values([\"rank\"]).reset_index(drop = True)\n",
    "\n",
    "\n",
    "pl = df[(df[\"Start Season\"] == year) & ((df[\"League\"] == 'EPL') )][['Rank','League','Team','Possession','ShortPassesPerGame', 'LongBallsPerGame']].sort_values([\"Rank\"]).reset_index(drop = True)\n",
    "# SPPLBP - ShortPassesPerGameDividedbyLongBallsPerGame\n",
    "pl[\"SPPLBP\"] = pl[\"ShortPassesPerGame\"] /pl[\"LongBallsPerGame\"]\n",
    "pl.drop([\"LongBallsPerGame\", \"ShortPassesPerGame\"], axis = 1, inplace = True)\n",
    "pl[\"Rank\"] = pl[\"Rank\"].astype(int)\n",
    "pl[\"npxGD\"] = pl_u[\"npxGD\"]\n",
    "\n",
    "\n",
    "ll = df[(df[\"Start Season\"] == year) & ((df[\"League\"] == 'La_liga') )][['Rank','League','Team','Possession','ShortPassesPerGame', 'LongBallsPerGame']].sort_values([\"Rank\"]).reset_index(drop = True)\n",
    "ll[\"SPPLBP\"] = ll[\"ShortPassesPerGame\"] /ll[\"LongBallsPerGame\"]\n",
    "ll.drop([\"LongBallsPerGame\", \"ShortPassesPerGame\"], axis = 1, inplace = True)\n",
    "ll[\"Rank\"] = ll[\"Rank\"].astype(int)\n",
    "ll[\"npxGD\"] = ll_u[\"npxGD\"]\n",
    "\n",
    "pl_ll = pd.concat([pl,ll]).reset_index(drop = True)"
   ]
  },
  {
   "attachments": {},
   "cell_type": "markdown",
   "metadata": {},
   "source": [
    "Possession, \n",
    "\n",
    "npxGD - difference between \"for\" and \"against\" expected goals without penalties and own goals\n",
    "\n",
    "ShortPassesPerGame / LongBallsPerGame\n",
    "\n",
    "Davandegi"
   ]
  },
  {
   "cell_type": "code",
   "execution_count": 68,
   "metadata": {},
   "outputs": [
    {
     "data": {
      "text/html": [
       "<div>\n",
       "<style scoped>\n",
       "    .dataframe tbody tr th:only-of-type {\n",
       "        vertical-align: middle;\n",
       "    }\n",
       "\n",
       "    .dataframe tbody tr th {\n",
       "        vertical-align: top;\n",
       "    }\n",
       "\n",
       "    .dataframe thead th {\n",
       "        text-align: right;\n",
       "    }\n",
       "</style>\n",
       "<table border=\"1\" class=\"dataframe\">\n",
       "  <thead>\n",
       "    <tr style=\"text-align: right;\">\n",
       "      <th></th>\n",
       "      <th>Rank</th>\n",
       "      <th>League</th>\n",
       "      <th>Team</th>\n",
       "      <th>Possession</th>\n",
       "      <th>SPPLBP</th>\n",
       "      <th>npxGD</th>\n",
       "    </tr>\n",
       "  </thead>\n",
       "  <tbody>\n",
       "    <tr>\n",
       "      <th>0</th>\n",
       "      <td>1</td>\n",
       "      <td>EPL</td>\n",
       "      <td>Liverpool</td>\n",
       "      <td>59.6</td>\n",
       "      <td>8.590909</td>\n",
       "      <td>32.575792</td>\n",
       "    </tr>\n",
       "    <tr>\n",
       "      <th>1</th>\n",
       "      <td>2</td>\n",
       "      <td>EPL</td>\n",
       "      <td>Manchester City</td>\n",
       "      <td>62.6</td>\n",
       "      <td>12.169811</td>\n",
       "      <td>58.818903</td>\n",
       "    </tr>\n",
       "    <tr>\n",
       "      <th>2</th>\n",
       "      <td>3</td>\n",
       "      <td>EPL</td>\n",
       "      <td>Manchester United</td>\n",
       "      <td>54.6</td>\n",
       "      <td>9.836735</td>\n",
       "      <td>19.754725</td>\n",
       "    </tr>\n",
       "    <tr>\n",
       "      <th>3</th>\n",
       "      <td>4</td>\n",
       "      <td>EPL</td>\n",
       "      <td>Chelsea</td>\n",
       "      <td>57.9</td>\n",
       "      <td>9.807018</td>\n",
       "      <td>31.333631</td>\n",
       "    </tr>\n",
       "    <tr>\n",
       "      <th>4</th>\n",
       "      <td>5</td>\n",
       "      <td>EPL</td>\n",
       "      <td>Leicester</td>\n",
       "      <td>55.1</td>\n",
       "      <td>8.600000</td>\n",
       "      <td>15.391501</td>\n",
       "    </tr>\n",
       "    <tr>\n",
       "      <th>5</th>\n",
       "      <td>6</td>\n",
       "      <td>EPL</td>\n",
       "      <td>Tottenham</td>\n",
       "      <td>51.5</td>\n",
       "      <td>7.981818</td>\n",
       "      <td>-2.966332</td>\n",
       "    </tr>\n",
       "    <tr>\n",
       "      <th>6</th>\n",
       "      <td>7</td>\n",
       "      <td>EPL</td>\n",
       "      <td>Wolverhampton</td>\n",
       "      <td>48.7</td>\n",
       "      <td>5.544118</td>\n",
       "      <td>16.218258</td>\n",
       "    </tr>\n",
       "    <tr>\n",
       "      <th>7</th>\n",
       "      <td>8</td>\n",
       "      <td>EPL</td>\n",
       "      <td>Arsenal</td>\n",
       "      <td>52.9</td>\n",
       "      <td>8.377358</td>\n",
       "      <td>-2.468798</td>\n",
       "    </tr>\n",
       "    <tr>\n",
       "      <th>8</th>\n",
       "      <td>9</td>\n",
       "      <td>EPL</td>\n",
       "      <td>Sheffield United</td>\n",
       "      <td>44.4</td>\n",
       "      <td>4.364865</td>\n",
       "      <td>-2.954927</td>\n",
       "    </tr>\n",
       "    <tr>\n",
       "      <th>9</th>\n",
       "      <td>10</td>\n",
       "      <td>EPL</td>\n",
       "      <td>Burnley</td>\n",
       "      <td>43.9</td>\n",
       "      <td>3.712329</td>\n",
       "      <td>-4.708494</td>\n",
       "    </tr>\n",
       "    <tr>\n",
       "      <th>10</th>\n",
       "      <td>11</td>\n",
       "      <td>EPL</td>\n",
       "      <td>Southampton</td>\n",
       "      <td>49.2</td>\n",
       "      <td>5.208955</td>\n",
       "      <td>-1.012431</td>\n",
       "    </tr>\n",
       "    <tr>\n",
       "      <th>11</th>\n",
       "      <td>12</td>\n",
       "      <td>EPL</td>\n",
       "      <td>Everton</td>\n",
       "      <td>49.0</td>\n",
       "      <td>5.682540</td>\n",
       "      <td>6.781945</td>\n",
       "    </tr>\n",
       "    <tr>\n",
       "      <th>12</th>\n",
       "      <td>13</td>\n",
       "      <td>EPL</td>\n",
       "      <td>Newcastle</td>\n",
       "      <td>41.8</td>\n",
       "      <td>4.523810</td>\n",
       "      <td>-29.776444</td>\n",
       "    </tr>\n",
       "    <tr>\n",
       "      <th>13</th>\n",
       "      <td>14</td>\n",
       "      <td>EPL</td>\n",
       "      <td>Crystal Palace</td>\n",
       "      <td>46.4</td>\n",
       "      <td>5.758621</td>\n",
       "      <td>-24.466621</td>\n",
       "    </tr>\n",
       "    <tr>\n",
       "      <th>14</th>\n",
       "      <td>15</td>\n",
       "      <td>EPL</td>\n",
       "      <td>Brighton</td>\n",
       "      <td>51.7</td>\n",
       "      <td>7.237288</td>\n",
       "      <td>-12.991779</td>\n",
       "    </tr>\n",
       "    <tr>\n",
       "      <th>15</th>\n",
       "      <td>16</td>\n",
       "      <td>EPL</td>\n",
       "      <td>West Ham</td>\n",
       "      <td>45.4</td>\n",
       "      <td>5.184615</td>\n",
       "      <td>-17.731903</td>\n",
       "    </tr>\n",
       "    <tr>\n",
       "      <th>16</th>\n",
       "      <td>17</td>\n",
       "      <td>EPL</td>\n",
       "      <td>Aston Villa</td>\n",
       "      <td>45.7</td>\n",
       "      <td>4.873016</td>\n",
       "      <td>-24.231866</td>\n",
       "    </tr>\n",
       "    <tr>\n",
       "      <th>17</th>\n",
       "      <td>18</td>\n",
       "      <td>EPL</td>\n",
       "      <td>Bournemouth</td>\n",
       "      <td>45.6</td>\n",
       "      <td>6.017857</td>\n",
       "      <td>-10.049648</td>\n",
       "    </tr>\n",
       "    <tr>\n",
       "      <th>18</th>\n",
       "      <td>19</td>\n",
       "      <td>EPL</td>\n",
       "      <td>Watford</td>\n",
       "      <td>44.3</td>\n",
       "      <td>4.952381</td>\n",
       "      <td>-17.100878</td>\n",
       "    </tr>\n",
       "    <tr>\n",
       "      <th>19</th>\n",
       "      <td>20</td>\n",
       "      <td>EPL</td>\n",
       "      <td>Norwich</td>\n",
       "      <td>49.8</td>\n",
       "      <td>6.847458</td>\n",
       "      <td>-30.414633</td>\n",
       "    </tr>\n",
       "    <tr>\n",
       "      <th>20</th>\n",
       "      <td>1</td>\n",
       "      <td>La_liga</td>\n",
       "      <td>Real Madrid</td>\n",
       "      <td>57.1</td>\n",
       "      <td>7.953846</td>\n",
       "      <td>32.321739</td>\n",
       "    </tr>\n",
       "    <tr>\n",
       "      <th>21</th>\n",
       "      <td>2</td>\n",
       "      <td>La_liga</td>\n",
       "      <td>Barcelona</td>\n",
       "      <td>63.2</td>\n",
       "      <td>14.170213</td>\n",
       "      <td>34.928789</td>\n",
       "    </tr>\n",
       "    <tr>\n",
       "      <th>22</th>\n",
       "      <td>3</td>\n",
       "      <td>La_liga</td>\n",
       "      <td>Atletico Madrid</td>\n",
       "      <td>48.9</td>\n",
       "      <td>6.271186</td>\n",
       "      <td>16.324050</td>\n",
       "    </tr>\n",
       "    <tr>\n",
       "      <th>23</th>\n",
       "      <td>4</td>\n",
       "      <td>La_liga</td>\n",
       "      <td>Sevilla</td>\n",
       "      <td>55.9</td>\n",
       "      <td>6.514286</td>\n",
       "      <td>24.196848</td>\n",
       "    </tr>\n",
       "    <tr>\n",
       "      <th>24</th>\n",
       "      <td>5</td>\n",
       "      <td>La_liga</td>\n",
       "      <td>Villarreal</td>\n",
       "      <td>29.6</td>\n",
       "      <td>6.523077</td>\n",
       "      <td>15.597880</td>\n",
       "    </tr>\n",
       "    <tr>\n",
       "      <th>25</th>\n",
       "      <td>6</td>\n",
       "      <td>La_liga</td>\n",
       "      <td>Real Sociedad</td>\n",
       "      <td>54.6</td>\n",
       "      <td>7.890909</td>\n",
       "      <td>12.003165</td>\n",
       "    </tr>\n",
       "    <tr>\n",
       "      <th>26</th>\n",
       "      <td>7</td>\n",
       "      <td>La_liga</td>\n",
       "      <td>Granada</td>\n",
       "      <td>45.2</td>\n",
       "      <td>3.867647</td>\n",
       "      <td>1.581915</td>\n",
       "    </tr>\n",
       "    <tr>\n",
       "      <th>27</th>\n",
       "      <td>8</td>\n",
       "      <td>La_liga</td>\n",
       "      <td>Getafe</td>\n",
       "      <td>45.8</td>\n",
       "      <td>2.780488</td>\n",
       "      <td>1.322649</td>\n",
       "    </tr>\n",
       "    <tr>\n",
       "      <th>28</th>\n",
       "      <td>9</td>\n",
       "      <td>La_liga</td>\n",
       "      <td>Valencia</td>\n",
       "      <td>49.4</td>\n",
       "      <td>6.262295</td>\n",
       "      <td>-12.754138</td>\n",
       "    </tr>\n",
       "    <tr>\n",
       "      <th>29</th>\n",
       "      <td>10</td>\n",
       "      <td>La_liga</td>\n",
       "      <td>Osasuna</td>\n",
       "      <td>47.8</td>\n",
       "      <td>3.986667</td>\n",
       "      <td>-2.771806</td>\n",
       "    </tr>\n",
       "    <tr>\n",
       "      <th>30</th>\n",
       "      <td>11</td>\n",
       "      <td>La_liga</td>\n",
       "      <td>Athletic Bilbao</td>\n",
       "      <td>49.0</td>\n",
       "      <td>4.506849</td>\n",
       "      <td>-12.621221</td>\n",
       "    </tr>\n",
       "    <tr>\n",
       "      <th>31</th>\n",
       "      <td>12</td>\n",
       "      <td>La_liga</td>\n",
       "      <td>Levante</td>\n",
       "      <td>48.8</td>\n",
       "      <td>5.206349</td>\n",
       "      <td>-13.175843</td>\n",
       "    </tr>\n",
       "    <tr>\n",
       "      <th>32</th>\n",
       "      <td>13</td>\n",
       "      <td>La_liga</td>\n",
       "      <td>Real Valladolid</td>\n",
       "      <td>15.4</td>\n",
       "      <td>4.183099</td>\n",
       "      <td>-16.949872</td>\n",
       "    </tr>\n",
       "    <tr>\n",
       "      <th>33</th>\n",
       "      <td>14</td>\n",
       "      <td>La_liga</td>\n",
       "      <td>Eibar</td>\n",
       "      <td>46.7</td>\n",
       "      <td>3.337349</td>\n",
       "      <td>-14.963861</td>\n",
       "    </tr>\n",
       "    <tr>\n",
       "      <th>34</th>\n",
       "      <td>15</td>\n",
       "      <td>La_liga</td>\n",
       "      <td>Real Betis</td>\n",
       "      <td>55.7</td>\n",
       "      <td>7.186441</td>\n",
       "      <td>-5.175230</td>\n",
       "    </tr>\n",
       "    <tr>\n",
       "      <th>35</th>\n",
       "      <td>16</td>\n",
       "      <td>La_liga</td>\n",
       "      <td>Deportivo Alaves</td>\n",
       "      <td>43.2</td>\n",
       "      <td>3.984848</td>\n",
       "      <td>-13.093103</td>\n",
       "    </tr>\n",
       "    <tr>\n",
       "      <th>36</th>\n",
       "      <td>17</td>\n",
       "      <td>La_liga</td>\n",
       "      <td>Celta Vigo</td>\n",
       "      <td>51.3</td>\n",
       "      <td>7.200000</td>\n",
       "      <td>-7.361762</td>\n",
       "    </tr>\n",
       "    <tr>\n",
       "      <th>37</th>\n",
       "      <td>18</td>\n",
       "      <td>La_liga</td>\n",
       "      <td>Leganes</td>\n",
       "      <td>45.0</td>\n",
       "      <td>4.164179</td>\n",
       "      <td>-5.268822</td>\n",
       "    </tr>\n",
       "    <tr>\n",
       "      <th>38</th>\n",
       "      <td>19</td>\n",
       "      <td>La_liga</td>\n",
       "      <td>Mallorca</td>\n",
       "      <td>46.3</td>\n",
       "      <td>5.888889</td>\n",
       "      <td>-20.254996</td>\n",
       "    </tr>\n",
       "    <tr>\n",
       "      <th>39</th>\n",
       "      <td>20</td>\n",
       "      <td>La_liga</td>\n",
       "      <td>Espanyol</td>\n",
       "      <td>47.5</td>\n",
       "      <td>4.571429</td>\n",
       "      <td>-13.886380</td>\n",
       "    </tr>\n",
       "  </tbody>\n",
       "</table>\n",
       "</div>"
      ],
      "text/plain": [
       "    Rank   League               Team  Possession     SPPLBP      npxGD\n",
       "0      1      EPL          Liverpool        59.6   8.590909  32.575792\n",
       "1      2      EPL    Manchester City        62.6  12.169811  58.818903\n",
       "2      3      EPL  Manchester United        54.6   9.836735  19.754725\n",
       "3      4      EPL            Chelsea        57.9   9.807018  31.333631\n",
       "4      5      EPL          Leicester        55.1   8.600000  15.391501\n",
       "5      6      EPL          Tottenham        51.5   7.981818  -2.966332\n",
       "6      7      EPL      Wolverhampton        48.7   5.544118  16.218258\n",
       "7      8      EPL            Arsenal        52.9   8.377358  -2.468798\n",
       "8      9      EPL   Sheffield United        44.4   4.364865  -2.954927\n",
       "9     10      EPL            Burnley        43.9   3.712329  -4.708494\n",
       "10    11      EPL        Southampton        49.2   5.208955  -1.012431\n",
       "11    12      EPL            Everton        49.0   5.682540   6.781945\n",
       "12    13      EPL          Newcastle        41.8   4.523810 -29.776444\n",
       "13    14      EPL     Crystal Palace        46.4   5.758621 -24.466621\n",
       "14    15      EPL           Brighton        51.7   7.237288 -12.991779\n",
       "15    16      EPL           West Ham        45.4   5.184615 -17.731903\n",
       "16    17      EPL        Aston Villa        45.7   4.873016 -24.231866\n",
       "17    18      EPL        Bournemouth        45.6   6.017857 -10.049648\n",
       "18    19      EPL            Watford        44.3   4.952381 -17.100878\n",
       "19    20      EPL            Norwich        49.8   6.847458 -30.414633\n",
       "20     1  La_liga        Real Madrid        57.1   7.953846  32.321739\n",
       "21     2  La_liga          Barcelona        63.2  14.170213  34.928789\n",
       "22     3  La_liga    Atletico Madrid        48.9   6.271186  16.324050\n",
       "23     4  La_liga            Sevilla        55.9   6.514286  24.196848\n",
       "24     5  La_liga         Villarreal        29.6   6.523077  15.597880\n",
       "25     6  La_liga      Real Sociedad        54.6   7.890909  12.003165\n",
       "26     7  La_liga            Granada        45.2   3.867647   1.581915\n",
       "27     8  La_liga             Getafe        45.8   2.780488   1.322649\n",
       "28     9  La_liga           Valencia        49.4   6.262295 -12.754138\n",
       "29    10  La_liga            Osasuna        47.8   3.986667  -2.771806\n",
       "30    11  La_liga    Athletic Bilbao        49.0   4.506849 -12.621221\n",
       "31    12  La_liga            Levante        48.8   5.206349 -13.175843\n",
       "32    13  La_liga    Real Valladolid        15.4   4.183099 -16.949872\n",
       "33    14  La_liga              Eibar        46.7   3.337349 -14.963861\n",
       "34    15  La_liga         Real Betis        55.7   7.186441  -5.175230\n",
       "35    16  La_liga   Deportivo Alaves        43.2   3.984848 -13.093103\n",
       "36    17  La_liga         Celta Vigo        51.3   7.200000  -7.361762\n",
       "37    18  La_liga            Leganes        45.0   4.164179  -5.268822\n",
       "38    19  La_liga           Mallorca        46.3   5.888889 -20.254996\n",
       "39    20  La_liga           Espanyol        47.5   4.571429 -13.886380"
      ]
     },
     "execution_count": 68,
     "metadata": {},
     "output_type": "execute_result"
    }
   ],
   "source": [
    "pl_ll"
   ]
  },
  {
   "cell_type": "code",
   "execution_count": 72,
   "metadata": {},
   "outputs": [
    {
     "data": {
      "application/vnd.plotly.v1+json": {
       "config": {
        "plotlyServerURL": "https://plot.ly"
       },
       "data": [
        {
         "hovertemplate": "<b>%{hovertext}</b><br><br>Possession=%{x}<br>SPPLBP=%{y}<br>npxGD=%{z}<extra></extra>",
         "hovertext": [
          "Liverpool",
          "Manchester City",
          "Manchester United",
          "Chelsea",
          "Leicester",
          "Tottenham",
          "Wolverhampton",
          "Arsenal",
          "Sheffield United",
          "Burnley",
          "Southampton",
          "Everton",
          "Newcastle",
          "Crystal Palace",
          "Brighton",
          "West Ham",
          "Aston Villa",
          "Bournemouth",
          "Watford",
          "Norwich",
          "Real Madrid",
          "Barcelona",
          "Atletico Madrid",
          "Sevilla",
          "Villarreal",
          "Real Sociedad",
          "Granada",
          "Getafe",
          "Valencia",
          "Osasuna",
          "Athletic Bilbao",
          "Levante",
          "Real Valladolid",
          "Eibar",
          "Real Betis",
          "Deportivo Alaves",
          "Celta Vigo",
          "Leganes",
          "Mallorca",
          "Espanyol"
         ],
         "legendgroup": "",
         "marker": {
          "color": "#636efa",
          "symbol": "circle"
         },
         "mode": "markers",
         "name": "",
         "scene": "scene",
         "showlegend": false,
         "type": "scatter3d",
         "x": [
          59.6,
          62.6,
          54.6,
          57.9,
          55.1,
          51.5,
          48.7,
          52.9,
          44.4,
          43.9,
          49.2,
          49,
          41.8,
          46.4,
          51.7,
          45.4,
          45.7,
          45.6,
          44.3,
          49.8,
          57.1,
          63.2,
          48.9,
          55.9,
          29.6,
          54.6,
          45.2,
          45.8,
          49.4,
          47.8,
          49,
          48.8,
          15.4,
          46.7,
          55.7,
          43.2,
          51.3,
          45,
          46.3,
          47.5
         ],
         "y": [
          8.590909090909092,
          12.169811320754716,
          9.83673469387755,
          9.807017543859649,
          8.6,
          7.9818181818181815,
          5.544117647058823,
          8.377358490566039,
          4.364864864864865,
          3.712328767123288,
          5.208955223880597,
          5.682539682539683,
          4.523809523809524,
          5.758620689655173,
          7.237288135593221,
          5.184615384615385,
          4.873015873015873,
          6.017857142857143,
          4.9523809523809526,
          6.8474576271186445,
          7.953846153846154,
          14.170212765957446,
          6.271186440677966,
          6.514285714285714,
          6.523076923076923,
          7.890909090909091,
          3.8676470588235294,
          2.7804878048780486,
          6.262295081967213,
          3.986666666666667,
          4.506849315068493,
          5.2063492063492065,
          4.183098591549296,
          3.3373493975903616,
          7.186440677966102,
          3.984848484848485,
          7.2,
          4.164179104477612,
          5.888888888888889,
          4.571428571428571
         ],
         "z": [
          32.575791800000005,
          58.818903000000006,
          19.754725,
          31.333631100000005,
          15.3915007,
          -2.9663319999999995,
          16.218258100000003,
          -2.468798,
          -2.9549271999999984,
          -4.708494000000001,
          -1.0124310000000012,
          6.781945000000002,
          -29.776444,
          -24.4666215,
          -12.991779000000005,
          -17.7319028,
          -24.231866,
          -10.049648,
          -17.1008781,
          -30.4146331,
          32.321738999999994,
          34.928788999999995,
          16.32405,
          24.196848,
          15.597879599999994,
          12.003165,
          1.581915,
          1.3226486,
          -12.754138,
          -2.7718060000000007,
          -12.621221,
          -13.175842999999997,
          -16.949871999999996,
          -14.963860500000004,
          -5.175229999999998,
          -13.0931035,
          -7.361762499999999,
          -5.268822000000002,
          -20.2549962,
          -13.8863795
         ]
        }
       ],
       "layout": {
        "legend": {
         "tracegroupgap": 0
        },
        "margin": {
         "t": 60
        },
        "scene": {
         "domain": {
          "x": [
           0,
           1
          ],
          "y": [
           0,
           1
          ]
         },
         "xaxis": {
          "title": {
           "text": "Possession"
          }
         },
         "yaxis": {
          "title": {
           "text": "SPPLBP"
          }
         },
         "zaxis": {
          "title": {
           "text": "npxGD"
          }
         }
        },
        "template": {
         "data": {
          "bar": [
           {
            "error_x": {
             "color": "#2a3f5f"
            },
            "error_y": {
             "color": "#2a3f5f"
            },
            "marker": {
             "line": {
              "color": "#E5ECF6",
              "width": 0.5
             },
             "pattern": {
              "fillmode": "overlay",
              "size": 10,
              "solidity": 0.2
             }
            },
            "type": "bar"
           }
          ],
          "barpolar": [
           {
            "marker": {
             "line": {
              "color": "#E5ECF6",
              "width": 0.5
             },
             "pattern": {
              "fillmode": "overlay",
              "size": 10,
              "solidity": 0.2
             }
            },
            "type": "barpolar"
           }
          ],
          "carpet": [
           {
            "aaxis": {
             "endlinecolor": "#2a3f5f",
             "gridcolor": "white",
             "linecolor": "white",
             "minorgridcolor": "white",
             "startlinecolor": "#2a3f5f"
            },
            "baxis": {
             "endlinecolor": "#2a3f5f",
             "gridcolor": "white",
             "linecolor": "white",
             "minorgridcolor": "white",
             "startlinecolor": "#2a3f5f"
            },
            "type": "carpet"
           }
          ],
          "choropleth": [
           {
            "colorbar": {
             "outlinewidth": 0,
             "ticks": ""
            },
            "type": "choropleth"
           }
          ],
          "contour": [
           {
            "colorbar": {
             "outlinewidth": 0,
             "ticks": ""
            },
            "colorscale": [
             [
              0,
              "#0d0887"
             ],
             [
              0.1111111111111111,
              "#46039f"
             ],
             [
              0.2222222222222222,
              "#7201a8"
             ],
             [
              0.3333333333333333,
              "#9c179e"
             ],
             [
              0.4444444444444444,
              "#bd3786"
             ],
             [
              0.5555555555555556,
              "#d8576b"
             ],
             [
              0.6666666666666666,
              "#ed7953"
             ],
             [
              0.7777777777777778,
              "#fb9f3a"
             ],
             [
              0.8888888888888888,
              "#fdca26"
             ],
             [
              1,
              "#f0f921"
             ]
            ],
            "type": "contour"
           }
          ],
          "contourcarpet": [
           {
            "colorbar": {
             "outlinewidth": 0,
             "ticks": ""
            },
            "type": "contourcarpet"
           }
          ],
          "heatmap": [
           {
            "colorbar": {
             "outlinewidth": 0,
             "ticks": ""
            },
            "colorscale": [
             [
              0,
              "#0d0887"
             ],
             [
              0.1111111111111111,
              "#46039f"
             ],
             [
              0.2222222222222222,
              "#7201a8"
             ],
             [
              0.3333333333333333,
              "#9c179e"
             ],
             [
              0.4444444444444444,
              "#bd3786"
             ],
             [
              0.5555555555555556,
              "#d8576b"
             ],
             [
              0.6666666666666666,
              "#ed7953"
             ],
             [
              0.7777777777777778,
              "#fb9f3a"
             ],
             [
              0.8888888888888888,
              "#fdca26"
             ],
             [
              1,
              "#f0f921"
             ]
            ],
            "type": "heatmap"
           }
          ],
          "heatmapgl": [
           {
            "colorbar": {
             "outlinewidth": 0,
             "ticks": ""
            },
            "colorscale": [
             [
              0,
              "#0d0887"
             ],
             [
              0.1111111111111111,
              "#46039f"
             ],
             [
              0.2222222222222222,
              "#7201a8"
             ],
             [
              0.3333333333333333,
              "#9c179e"
             ],
             [
              0.4444444444444444,
              "#bd3786"
             ],
             [
              0.5555555555555556,
              "#d8576b"
             ],
             [
              0.6666666666666666,
              "#ed7953"
             ],
             [
              0.7777777777777778,
              "#fb9f3a"
             ],
             [
              0.8888888888888888,
              "#fdca26"
             ],
             [
              1,
              "#f0f921"
             ]
            ],
            "type": "heatmapgl"
           }
          ],
          "histogram": [
           {
            "marker": {
             "pattern": {
              "fillmode": "overlay",
              "size": 10,
              "solidity": 0.2
             }
            },
            "type": "histogram"
           }
          ],
          "histogram2d": [
           {
            "colorbar": {
             "outlinewidth": 0,
             "ticks": ""
            },
            "colorscale": [
             [
              0,
              "#0d0887"
             ],
             [
              0.1111111111111111,
              "#46039f"
             ],
             [
              0.2222222222222222,
              "#7201a8"
             ],
             [
              0.3333333333333333,
              "#9c179e"
             ],
             [
              0.4444444444444444,
              "#bd3786"
             ],
             [
              0.5555555555555556,
              "#d8576b"
             ],
             [
              0.6666666666666666,
              "#ed7953"
             ],
             [
              0.7777777777777778,
              "#fb9f3a"
             ],
             [
              0.8888888888888888,
              "#fdca26"
             ],
             [
              1,
              "#f0f921"
             ]
            ],
            "type": "histogram2d"
           }
          ],
          "histogram2dcontour": [
           {
            "colorbar": {
             "outlinewidth": 0,
             "ticks": ""
            },
            "colorscale": [
             [
              0,
              "#0d0887"
             ],
             [
              0.1111111111111111,
              "#46039f"
             ],
             [
              0.2222222222222222,
              "#7201a8"
             ],
             [
              0.3333333333333333,
              "#9c179e"
             ],
             [
              0.4444444444444444,
              "#bd3786"
             ],
             [
              0.5555555555555556,
              "#d8576b"
             ],
             [
              0.6666666666666666,
              "#ed7953"
             ],
             [
              0.7777777777777778,
              "#fb9f3a"
             ],
             [
              0.8888888888888888,
              "#fdca26"
             ],
             [
              1,
              "#f0f921"
             ]
            ],
            "type": "histogram2dcontour"
           }
          ],
          "mesh3d": [
           {
            "colorbar": {
             "outlinewidth": 0,
             "ticks": ""
            },
            "type": "mesh3d"
           }
          ],
          "parcoords": [
           {
            "line": {
             "colorbar": {
              "outlinewidth": 0,
              "ticks": ""
             }
            },
            "type": "parcoords"
           }
          ],
          "pie": [
           {
            "automargin": true,
            "type": "pie"
           }
          ],
          "scatter": [
           {
            "fillpattern": {
             "fillmode": "overlay",
             "size": 10,
             "solidity": 0.2
            },
            "type": "scatter"
           }
          ],
          "scatter3d": [
           {
            "line": {
             "colorbar": {
              "outlinewidth": 0,
              "ticks": ""
             }
            },
            "marker": {
             "colorbar": {
              "outlinewidth": 0,
              "ticks": ""
             }
            },
            "type": "scatter3d"
           }
          ],
          "scattercarpet": [
           {
            "marker": {
             "colorbar": {
              "outlinewidth": 0,
              "ticks": ""
             }
            },
            "type": "scattercarpet"
           }
          ],
          "scattergeo": [
           {
            "marker": {
             "colorbar": {
              "outlinewidth": 0,
              "ticks": ""
             }
            },
            "type": "scattergeo"
           }
          ],
          "scattergl": [
           {
            "marker": {
             "colorbar": {
              "outlinewidth": 0,
              "ticks": ""
             }
            },
            "type": "scattergl"
           }
          ],
          "scattermapbox": [
           {
            "marker": {
             "colorbar": {
              "outlinewidth": 0,
              "ticks": ""
             }
            },
            "type": "scattermapbox"
           }
          ],
          "scatterpolar": [
           {
            "marker": {
             "colorbar": {
              "outlinewidth": 0,
              "ticks": ""
             }
            },
            "type": "scatterpolar"
           }
          ],
          "scatterpolargl": [
           {
            "marker": {
             "colorbar": {
              "outlinewidth": 0,
              "ticks": ""
             }
            },
            "type": "scatterpolargl"
           }
          ],
          "scatterternary": [
           {
            "marker": {
             "colorbar": {
              "outlinewidth": 0,
              "ticks": ""
             }
            },
            "type": "scatterternary"
           }
          ],
          "surface": [
           {
            "colorbar": {
             "outlinewidth": 0,
             "ticks": ""
            },
            "colorscale": [
             [
              0,
              "#0d0887"
             ],
             [
              0.1111111111111111,
              "#46039f"
             ],
             [
              0.2222222222222222,
              "#7201a8"
             ],
             [
              0.3333333333333333,
              "#9c179e"
             ],
             [
              0.4444444444444444,
              "#bd3786"
             ],
             [
              0.5555555555555556,
              "#d8576b"
             ],
             [
              0.6666666666666666,
              "#ed7953"
             ],
             [
              0.7777777777777778,
              "#fb9f3a"
             ],
             [
              0.8888888888888888,
              "#fdca26"
             ],
             [
              1,
              "#f0f921"
             ]
            ],
            "type": "surface"
           }
          ],
          "table": [
           {
            "cells": {
             "fill": {
              "color": "#EBF0F8"
             },
             "line": {
              "color": "white"
             }
            },
            "header": {
             "fill": {
              "color": "#C8D4E3"
             },
             "line": {
              "color": "white"
             }
            },
            "type": "table"
           }
          ]
         },
         "layout": {
          "annotationdefaults": {
           "arrowcolor": "#2a3f5f",
           "arrowhead": 0,
           "arrowwidth": 1
          },
          "autotypenumbers": "strict",
          "coloraxis": {
           "colorbar": {
            "outlinewidth": 0,
            "ticks": ""
           }
          },
          "colorscale": {
           "diverging": [
            [
             0,
             "#8e0152"
            ],
            [
             0.1,
             "#c51b7d"
            ],
            [
             0.2,
             "#de77ae"
            ],
            [
             0.3,
             "#f1b6da"
            ],
            [
             0.4,
             "#fde0ef"
            ],
            [
             0.5,
             "#f7f7f7"
            ],
            [
             0.6,
             "#e6f5d0"
            ],
            [
             0.7,
             "#b8e186"
            ],
            [
             0.8,
             "#7fbc41"
            ],
            [
             0.9,
             "#4d9221"
            ],
            [
             1,
             "#276419"
            ]
           ],
           "sequential": [
            [
             0,
             "#0d0887"
            ],
            [
             0.1111111111111111,
             "#46039f"
            ],
            [
             0.2222222222222222,
             "#7201a8"
            ],
            [
             0.3333333333333333,
             "#9c179e"
            ],
            [
             0.4444444444444444,
             "#bd3786"
            ],
            [
             0.5555555555555556,
             "#d8576b"
            ],
            [
             0.6666666666666666,
             "#ed7953"
            ],
            [
             0.7777777777777778,
             "#fb9f3a"
            ],
            [
             0.8888888888888888,
             "#fdca26"
            ],
            [
             1,
             "#f0f921"
            ]
           ],
           "sequentialminus": [
            [
             0,
             "#0d0887"
            ],
            [
             0.1111111111111111,
             "#46039f"
            ],
            [
             0.2222222222222222,
             "#7201a8"
            ],
            [
             0.3333333333333333,
             "#9c179e"
            ],
            [
             0.4444444444444444,
             "#bd3786"
            ],
            [
             0.5555555555555556,
             "#d8576b"
            ],
            [
             0.6666666666666666,
             "#ed7953"
            ],
            [
             0.7777777777777778,
             "#fb9f3a"
            ],
            [
             0.8888888888888888,
             "#fdca26"
            ],
            [
             1,
             "#f0f921"
            ]
           ]
          },
          "colorway": [
           "#636efa",
           "#EF553B",
           "#00cc96",
           "#ab63fa",
           "#FFA15A",
           "#19d3f3",
           "#FF6692",
           "#B6E880",
           "#FF97FF",
           "#FECB52"
          ],
          "font": {
           "color": "#2a3f5f"
          },
          "geo": {
           "bgcolor": "white",
           "lakecolor": "white",
           "landcolor": "#E5ECF6",
           "showlakes": true,
           "showland": true,
           "subunitcolor": "white"
          },
          "hoverlabel": {
           "align": "left"
          },
          "hovermode": "closest",
          "mapbox": {
           "style": "light"
          },
          "paper_bgcolor": "white",
          "plot_bgcolor": "#E5ECF6",
          "polar": {
           "angularaxis": {
            "gridcolor": "white",
            "linecolor": "white",
            "ticks": ""
           },
           "bgcolor": "#E5ECF6",
           "radialaxis": {
            "gridcolor": "white",
            "linecolor": "white",
            "ticks": ""
           }
          },
          "scene": {
           "xaxis": {
            "backgroundcolor": "#E5ECF6",
            "gridcolor": "white",
            "gridwidth": 2,
            "linecolor": "white",
            "showbackground": true,
            "ticks": "",
            "zerolinecolor": "white"
           },
           "yaxis": {
            "backgroundcolor": "#E5ECF6",
            "gridcolor": "white",
            "gridwidth": 2,
            "linecolor": "white",
            "showbackground": true,
            "ticks": "",
            "zerolinecolor": "white"
           },
           "zaxis": {
            "backgroundcolor": "#E5ECF6",
            "gridcolor": "white",
            "gridwidth": 2,
            "linecolor": "white",
            "showbackground": true,
            "ticks": "",
            "zerolinecolor": "white"
           }
          },
          "shapedefaults": {
           "line": {
            "color": "#2a3f5f"
           }
          },
          "ternary": {
           "aaxis": {
            "gridcolor": "white",
            "linecolor": "white",
            "ticks": ""
           },
           "baxis": {
            "gridcolor": "white",
            "linecolor": "white",
            "ticks": ""
           },
           "bgcolor": "#E5ECF6",
           "caxis": {
            "gridcolor": "white",
            "linecolor": "white",
            "ticks": ""
           }
          },
          "title": {
           "x": 0.05
          },
          "xaxis": {
           "automargin": true,
           "gridcolor": "white",
           "linecolor": "white",
           "ticks": "",
           "title": {
            "standoff": 15
           },
           "zerolinecolor": "white",
           "zerolinewidth": 2
          },
          "yaxis": {
           "automargin": true,
           "gridcolor": "white",
           "linecolor": "white",
           "ticks": "",
           "title": {
            "standoff": 15
           },
           "zerolinecolor": "white",
           "zerolinewidth": 2
          }
         }
        }
       }
      }
     },
     "metadata": {},
     "output_type": "display_data"
    }
   ],
   "source": [
    "overview = px.scatter_3d(pl_ll, x = 'Possession', y = 'SPPLBP', z = 'npxGD', hover_name = 'Team')\n",
    "overview.show()"
   ]
  }
 ],
 "metadata": {
  "kernelspec": {
   "display_name": "Python 3",
   "language": "python",
   "name": "python3"
  },
  "language_info": {
   "codemirror_mode": {
    "name": "ipython",
    "version": 3
   },
   "file_extension": ".py",
   "mimetype": "text/x-python",
   "name": "python",
   "nbconvert_exporter": "python",
   "pygments_lexer": "ipython3",
   "version": "3.10.6"
  },
  "orig_nbformat": 4
 },
 "nbformat": 4,
 "nbformat_minor": 2
}
